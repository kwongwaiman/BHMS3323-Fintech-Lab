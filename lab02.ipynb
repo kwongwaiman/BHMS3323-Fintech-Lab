{
 "cells": [
  {
   "cell_type": "markdown",
   "id": "chemical-compilation",
   "metadata": {},
   "source": [
    "# Lab 2 - Control Structure"
   ]
  },
  {
   "cell_type": "markdown",
   "id": "dimensional-modification",
   "metadata": {},
   "source": [
    "In this lab, we are going to learn the Python condition statements.\n",
    "\n",
    "Python check the condition statement by evaluating the following common logical conditions \n",
    "\n",
    "Given that `a = 1` and `b = 3`\n",
    "\n",
    "|logical operations | logical operators| example| results|\n",
    "|-|:-:|:-:|-|\n",
    "|Equals | == | a==b| False|\n",
    "|Not equals | != | a!=b | True|\n",
    "|Less than | < | a<b | True |\n",
    "|Less than or eqauls to | <= | a<=b | True| \n",
    "|Greater than | > | a>b | False|\n",
    "|Greater than or eqauls to | >= | a>=b | False| \n"
   ]
  },
  {
   "cell_type": "code",
   "execution_count": 1,
   "id": "representative-pottery",
   "metadata": {},
   "outputs": [
    {
     "data": {
      "text/plain": [
       "False"
      ]
     },
     "execution_count": 1,
     "metadata": {},
     "output_type": "execute_result"
    }
   ],
   "source": [
    "# Try the logical operators\n",
    "a = 1\n",
    "b = 2\n",
    "\n",
    "a == b"
   ]
  },
  {
   "cell_type": "markdown",
   "id": "broke-inquiry",
   "metadata": {},
   "source": [
    "**Exercise 1**\n",
    "1. set variable `a` equals to 5\n",
    "2. set variable `b` equals to 10\n",
    "3. check whether `a` is smaller than `b`\n",
    "4. check whether the sum of two `a` is equals to `b`\n",
    "5. check whether `b` minus `a` is `a`\n",
    "6. check whether `a` is an even number.\n"
   ]
  },
  {
   "cell_type": "code",
   "execution_count": 2,
   "id": "amber-parameter",
   "metadata": {},
   "outputs": [],
   "source": [
    "# Exercise 1\n",
    "# your code begins here \n",
    "\n"
   ]
  },
  {
   "cell_type": "markdown",
   "id": "excessive-mongolia",
   "metadata": {},
   "source": [
    "### 2.1 If else statement\n",
    "\n",
    "You can have a better control in code execution in Python by using control statements.\n",
    "\n",
    "The most commonly used control statement is `if` statement\n",
    "\n"
   ]
  },
  {
   "cell_type": "code",
   "execution_count": 3,
   "id": "sunset-walker",
   "metadata": {},
   "outputs": [
    {
     "name": "stdout",
     "output_type": "stream",
     "text": [
      "a is smaller than b\n"
     ]
    }
   ],
   "source": [
    "# Example\n",
    "a = 1\n",
    "b = 3\n",
    "\n",
    "if a < b:\n",
    "    print(\"a is smaller than b\")\n",
    "else:\n",
    "    print(\"a is larger than b\")\n",
    "    "
   ]
  },
  {
   "cell_type": "markdown",
   "id": "beautiful-segment",
   "metadata": {},
   "source": [
    "Please note that the code inside the conditions of `if` and `else` is indented. \n",
    "\n",
    "Python uses indentation to represent a **block** of code in different levels.\n",
    "\n",
    "![if else](images/lab02_if_else.png)"
   ]
  },
  {
   "cell_type": "code",
   "execution_count": 4,
   "id": "specified-ottawa",
   "metadata": {},
   "outputs": [
    {
     "ename": "IndentationError",
     "evalue": "expected an indented block (<ipython-input-4-7eaffa56a0e9>, line 8)",
     "output_type": "error",
     "traceback": [
      "\u001b[1;36m  File \u001b[1;32m\"<ipython-input-4-7eaffa56a0e9>\"\u001b[1;36m, line \u001b[1;32m8\u001b[0m\n\u001b[1;33m    print(\"a is smaller than b\")\u001b[0m\n\u001b[1;37m    ^\u001b[0m\n\u001b[1;31mIndentationError\u001b[0m\u001b[1;31m:\u001b[0m expected an indented block\n"
     ]
    }
   ],
   "source": [
    "# Example\n",
    "# the following code will return you an error\n",
    "# Example\n",
    "a = 1\n",
    "b = 3\n",
    "\n",
    "if a < b:\n",
    "print(\"a is smaller than b\")\n",
    "else:\n",
    "print(\"a is larger than b\")"
   ]
  },
  {
   "cell_type": "markdown",
   "id": "gross-stevens",
   "metadata": {},
   "source": [
    "### 2.2 Elif Statement\n",
    "\n",
    "The `elif` keyword tells Python to try this condition if the previous condition were not true."
   ]
  },
  {
   "cell_type": "code",
   "execution_count": 5,
   "id": "frequent-connecticut",
   "metadata": {},
   "outputs": [
    {
     "name": "stdout",
     "output_type": "stream",
     "text": [
      "a equals to b\n"
     ]
    }
   ],
   "source": [
    "# Example\n",
    "\n",
    "a = 3\n",
    "b = 3\n",
    "\n",
    "if a < b:\n",
    "    print(\"a is smaller than b\")\n",
    "elif a == b:\n",
    "    print(\"a equals to b\")\n",
    "    "
   ]
  },
  {
   "cell_type": "markdown",
   "id": "small-performer",
   "metadata": {},
   "source": [
    "### 2.3 Logic operators\n",
    "\n",
    "In Python, you can perform the logic operation by using the logic operators\n",
    "\n",
    "The truth tables for `and` and `or` are:\n",
    "\n",
    "| A| B| A and B|\n",
    "|:-:|:-:|:-:|\n",
    "|T|T|T|\n",
    "|T|F|F|\n",
    "|F|T|F|\n",
    "|F|F|F|\n",
    "\n",
    "\n",
    "| A| B| A or B|\n",
    "|:-:|:-:|:-:|\n",
    "|T|T|T|\n",
    "|T|F|T|\n",
    "|F|T|T|\n",
    "|F|F|F|\n",
    "\n"
   ]
  },
  {
   "cell_type": "code",
   "execution_count": 13,
   "id": "responsible-philippines",
   "metadata": {},
   "outputs": [
    {
     "name": "stdout",
     "output_type": "stream",
     "text": [
      "Your grade is D\n"
     ]
    }
   ],
   "source": [
    "#example\n",
    "\n",
    "marks = 40\n",
    "grade = 'F'\n",
    "\n",
    "if marks > 0 and marks < 40:\n",
    "    grade = 'F'\n",
    "elif marks >=40 and marks < 60:\n",
    "    grade = 'D'\n",
    "elif marks >=60 and marks < 70:\n",
    "    grade = 'C'\n",
    "elif marks >=70 and marks < 80:\n",
    "    grade = 'B'\n",
    "elif marks >=80:\n",
    "    grade = 'A'\n",
    "    \n",
    "print(\"Your grade is \" + grade)\n",
    "    "
   ]
  },
  {
   "cell_type": "markdown",
   "id": "gentle-apache",
   "metadata": {},
   "source": [
    "### 2.3 Looping\n",
    "\n",
    "Python has two common type of loop\n",
    "1. The `while` loop\n",
    "2. The `for` loop\n",
    "\n",
    "#### While Loop\n",
    "We use `while` loop for executing a set of statements **as long as a condition is true**\n",
    "\n",
    "\n",
    "#### For Loop\n",
    "We use `for` loop for executing a set of statements **for a specified number of times** or **for iterating over a list**\n",
    "\n",
    "The keyword `continue` inside the `while` or `for` loop will make Python stop the current iteration of the loop, and continue with the next\n",
    "\n",
    "The keyword `break` inside the `while` or `for` loop will make Python quit the loop\n"
   ]
  },
  {
   "cell_type": "code",
   "execution_count": 16,
   "id": "chicken-progressive",
   "metadata": {},
   "outputs": [
    {
     "name": "stdout",
     "output_type": "stream",
     "text": [
      "1\n",
      "2\n",
      "3\n",
      "4\n",
      "5\n",
      "6\n",
      "7\n",
      "8\n",
      "9\n"
     ]
    }
   ],
   "source": [
    "#Example 1: while loop\n",
    "\n",
    "i = 1\n",
    "\n",
    "while i < 10:\n",
    "    print(i)\n",
    "    i = i + 1"
   ]
  },
  {
   "cell_type": "code",
   "execution_count": 19,
   "id": "packed-venezuela",
   "metadata": {},
   "outputs": [
    {
     "name": "stdout",
     "output_type": "stream",
     "text": [
      "10\n",
      "9\n",
      "8\n",
      "7\n",
      "6\n"
     ]
    }
   ],
   "source": [
    "#Example 2: while loop with break\n",
    "i = 10\n",
    "\n",
    "while i>0:\n",
    "    print(i)\n",
    "    i -= 1\n",
    "    if (i == 5):\n",
    "        break"
   ]
  },
  {
   "cell_type": "code",
   "execution_count": 18,
   "id": "opposed-consideration",
   "metadata": {},
   "outputs": [
    {
     "name": "stdout",
     "output_type": "stream",
     "text": [
      "2\n",
      "5\n",
      "6\n",
      "7\n",
      "8\n",
      "9\n",
      "10\n"
     ]
    }
   ],
   "source": [
    "#Example 3: while loop with continue\n",
    "\n",
    "i = 1\n",
    "\n",
    "while i < 10:\n",
    "    i = i + 1\n",
    "    if i == 3:\n",
    "        i += 1\n",
    "        continue\n",
    "    print(i)\n",
    "    \n"
   ]
  },
  {
   "cell_type": "code",
   "execution_count": 21,
   "id": "returning-alarm",
   "metadata": {},
   "outputs": [
    {
     "name": "stdout",
     "output_type": "stream",
     "text": [
      "I am studying BHMSxxxx.\n",
      "I am studying BHMS3323, I love this subject much!\n",
      "I am studying BHMSyyyy.\n"
     ]
    }
   ],
   "source": [
    "#Example 4: for loop with list\n",
    "\n",
    "subjects = [\"BHMSxxxx\", \"BHMS3323\", \"BHMSyyyy\"]\n",
    "\n",
    "for subject in subjects:\n",
    "    addon = \".\"\n",
    "    if subject == \"BHMS3323\":\n",
    "        addon = \", I love this subject much!\"\n",
    "    print(\"I am studying \" + subject + addon)\n",
    "    "
   ]
  },
  {
   "cell_type": "code",
   "execution_count": 22,
   "id": "vietnamese-familiar",
   "metadata": {},
   "outputs": [
    {
     "name": "stdout",
     "output_type": "stream",
     "text": [
      "0\n",
      "1\n",
      "2\n",
      "3\n",
      "4\n",
      "5\n",
      "6\n",
      "7\n",
      "8\n",
      "9\n"
     ]
    }
   ],
   "source": [
    "#Example 5: for loop with range\n",
    "\n",
    "for i in range(10):\n",
    "    print(i)"
   ]
  },
  {
   "cell_type": "markdown",
   "id": "sensitive-server",
   "metadata": {},
   "source": [
    "### End of Tutorial 2\n",
    "\n",
    "*More Python tutoirals can be found on [w3schools.com](https://www.w3schools.com/python/default.asp), I strongly recommend you to study the materials by your own.*"
   ]
  }
 ],
 "metadata": {
  "kernelspec": {
   "display_name": "fintechlab",
   "language": "python",
   "name": "fintechlab"
  },
  "language_info": {
   "codemirror_mode": {
    "name": "ipython",
    "version": 3
   },
   "file_extension": ".py",
   "mimetype": "text/x-python",
   "name": "python",
   "nbconvert_exporter": "python",
   "pygments_lexer": "ipython3",
   "version": "3.8.5"
  }
 },
 "nbformat": 4,
 "nbformat_minor": 5
}
