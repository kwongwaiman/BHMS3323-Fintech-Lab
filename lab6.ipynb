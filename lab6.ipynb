{
 "cells": [
  {
   "cell_type": "markdown",
   "id": "vocal-internet",
   "metadata": {},
   "source": [
    "## BHMS3323 Practices of FinTech"
   ]
  },
  {
   "cell_type": "markdown",
   "id": "comparative-there",
   "metadata": {},
   "source": [
    "## Lab6 - Class"
   ]
  },
  {
   "cell_type": "markdown",
   "id": "prime-premium",
   "metadata": {},
   "source": [
    "Python is an object oriented programming langauge.\n",
    "\n",
    "In Python, you can define variables as objects that have properties and methods.\n",
    "\n",
    "To create a class, we can use the keyword `class`.\n",
    "\n"
   ]
  },
  {
   "cell_type": "markdown",
   "id": "controversial-brooks",
   "metadata": {},
   "source": [
    "For example, we can define a Circle in Cartesian system by specifying the the x and y coordinates of its center as `a` and `b`, and its radius `r`.\n",
    "\n",
    "*Note: The class name should always begin with capital letter*\n"
   ]
  },
  {
   "cell_type": "code",
   "execution_count": 8,
   "id": "earlier-colony",
   "metadata": {},
   "outputs": [],
   "source": [
    "class Circle:\n",
    "    a = 5\n",
    "    b = 5\n",
    "    r = 2"
   ]
  },
  {
   "cell_type": "code",
   "execution_count": 9,
   "id": "departmental-charge",
   "metadata": {},
   "outputs": [
    {
     "data": {
      "text/plain": [
       "5"
      ]
     },
     "execution_count": 9,
     "metadata": {},
     "output_type": "execute_result"
    }
   ],
   "source": [
    "circle = Circle() #create a new instance of Circle\n",
    "circle.a\n"
   ]
  },
  {
   "cell_type": "markdown",
   "id": "external-peripheral",
   "metadata": {},
   "source": [
    "Now, let's create 2 circles.\n",
    "\n",
    "Circle A with (a,b) = (3,4) and r = 2\n",
    "\n",
    "Circle B with (a,b) = (6,8) and r = 4\n"
   ]
  },
  {
   "cell_type": "code",
   "execution_count": 10,
   "id": "solar-michael",
   "metadata": {},
   "outputs": [],
   "source": [
    "circleA = Circle()\n",
    "circleB = Circle()\n",
    "\n",
    "# Circle A's properties\n",
    "circleA.a = 3\n",
    "circleA.b = 4\n",
    "circleA.r = 2\n",
    "\n",
    "# Circle B's properties\n",
    "circleB.a = 6\n",
    "circleB.b = 8\n",
    "circleB.r = 4"
   ]
  },
  {
   "cell_type": "markdown",
   "id": "friendly-laugh",
   "metadata": {},
   "source": [
    "The above method is a bit tedious, and actually, we can initalize the object properties by calling the *constructor* method when we create an object.\n",
    "\n",
    "The constructor method in Python is `__init__()`.\n",
    "\n",
    "We will use `self` keyword to refer the object itself. Let's define the class `Circle` again.\n",
    "\n",
    "*Note: The first argument of the `__init__()` function must be `self`.*\n"
   ]
  },
  {
   "cell_type": "code",
   "execution_count": 15,
   "id": "disciplinary-trust",
   "metadata": {},
   "outputs": [],
   "source": [
    "class Circle:\n",
    "    def __init__(self, a, b, r):\n",
    "        self.a = a\n",
    "        self.b = b\n",
    "        self.r = r\n"
   ]
  },
  {
   "cell_type": "markdown",
   "id": "frozen-costs",
   "metadata": {},
   "source": [
    "Now, let's create 2 circles again.\n",
    "\n",
    "Circle A with (a,b) = (3,4) and r = 2\n",
    "\n",
    "Circle B with (a,b) = (6,8) and r = 4"
   ]
  },
  {
   "cell_type": "code",
   "execution_count": 17,
   "id": "responsible-brain",
   "metadata": {},
   "outputs": [
    {
     "name": "stdout",
     "output_type": "stream",
     "text": [
      "2\n"
     ]
    }
   ],
   "source": [
    "circle_A = Circle(3,4,2)\n",
    "circle_B = Circle(a=6, b=8, r=4)\n",
    "\n",
    "print(circle_A.r)"
   ]
  },
  {
   "cell_type": "markdown",
   "id": "surgical-thesaurus",
   "metadata": {},
   "source": [
    "You can define methods for your self defined object.\n",
    "\n",
    "For example, we want to create a method `details()` that returns all the properties of `Circle`."
   ]
  },
  {
   "cell_type": "code",
   "execution_count": 23,
   "id": "lucky-static",
   "metadata": {},
   "outputs": [],
   "source": [
    "class Circle:\n",
    "    def __init__(self, a, b, r):\n",
    "        self.a = a\n",
    "        self.b = b\n",
    "        self.r = r\n",
    "    \n",
    "    def details(self):\n",
    "        print(\"Circle center is ({a}, {b}), and the radius is {r}.\".format(a=self.a, b=self.b, r=self.r))\n",
    "        \n"
   ]
  },
  {
   "cell_type": "code",
   "execution_count": 24,
   "id": "earlier-resistance",
   "metadata": {},
   "outputs": [
    {
     "name": "stdout",
     "output_type": "stream",
     "text": [
      "Circle center is (3, 4), and the radius is 2.\n",
      "Circle center is (6, 8), and the radius is 4.\n"
     ]
    }
   ],
   "source": [
    "circle_A = Circle(3,4,2)\n",
    "circle_B = Circle(a=6, b=8, r=4)\n",
    "\n",
    "circle_A.details()\n",
    "circle_B.details()"
   ]
  },
  {
   "cell_type": "code",
   "execution_count": 25,
   "id": "strong-cleveland",
   "metadata": {},
   "outputs": [
    {
     "name": "stdout",
     "output_type": "stream",
     "text": [
      "<__main__.Circle object at 0x00000262FC1FAD30>\n"
     ]
    }
   ],
   "source": [
    "print(circle_A)"
   ]
  },
  {
   "cell_type": "markdown",
   "id": "stock-deficit",
   "metadata": {},
   "source": [
    "If you run the code above, you will get an object reference used by Python internally instead of something meanful.\n",
    "\n",
    "Actually, we can override the `__str()__` function to give `Cricle` a meanful output.\n",
    "\n",
    "Let's move the codes in your `details()` method to the `__str()__` method.\n"
   ]
  },
  {
   "cell_type": "code",
   "execution_count": 27,
   "id": "emerging-couple",
   "metadata": {},
   "outputs": [],
   "source": [
    "class Circle:\n",
    "    def __init__(self, a, b, r):\n",
    "        self.a = a\n",
    "        self.b = b\n",
    "        self.r = r\n",
    "    \n",
    "    def __str__(self):\n",
    "        return \"Circle center is ({a}, {b}), and the radius is {r}.\".format(a=self.a, b=self.b, r=self.r)\n",
    "        \n"
   ]
  },
  {
   "cell_type": "code",
   "execution_count": null,
   "id": "loose-badge",
   "metadata": {},
   "outputs": [],
   "source": [
    "# create the 2 circles\n",
    "circle_A = Circle(3,4,2)\n",
    "circle_B = Circle(a=6, b=8, r=4)\n",
    "\n",
    "print(circle_A)\n",
    "print(circle_B)\n",
    "\n",
    "\n"
   ]
  },
  {
   "cell_type": "markdown",
   "id": "willing-damages",
   "metadata": {},
   "source": [
    "### Modify Object Properties\n",
    "\n",
    "You can modify properties on object by assigning value to it.\n",
    "\n",
    "`circle_A.r = 7`"
   ]
  },
  {
   "cell_type": "code",
   "execution_count": 32,
   "id": "noble-coverage",
   "metadata": {},
   "outputs": [
    {
     "name": "stdout",
     "output_type": "stream",
     "text": [
      "Circle center is (3, 4), and the radius is 2.\n",
      "Circle center is (4, 4), and the radius is 10.\n"
     ]
    }
   ],
   "source": [
    "circle_A = Circle(3,4,2)\n",
    "print(circle_A)\n",
    "\n",
    "# modify the properties\n",
    "circle_A.a = 4\n",
    "circle_A.r = 10\n",
    "print(circle_A)\n",
    "\n"
   ]
  },
  {
   "cell_type": "markdown",
   "id": "retired-sweden",
   "metadata": {},
   "source": [
    "### Operators Overriding\n",
    "\n",
    "\n"
   ]
  },
  {
   "cell_type": "markdown",
   "id": "external-intensity",
   "metadata": {},
   "source": [
    "Python supports both function and operator overriding. Method overriding is a concept of object oriented programming that allows us to change the implementation of a function in the child class that is defined in the parent class. It is the ability of a child class to change the implementation of any method which is already provided by one of its parent class(ancestors). With operator overriding, we are able to change the meaning of a Python operator within the scope of a class.\n",
    "\n",
    "The common Python operator and its methods are:\n",
    "\n",
    "| Operator | methods |  | Comparison Operator | methods |\n",
    "| :-: | :- | :-: | :-: | -: |\n",
    "| + | `__add(self, other)__`| | < | `__lt(self, other)__`| \n",
    "| - | `__sub(self, other)__`| | > | `__gt(self, other)__`| \n",
    "| * | `__mul(self, other)__`| | == | `__eq(self, other)__`| \n",
    "| / | `__truediv(self, other)__`| | != | `__ne(self, other)__`| \n",
    "\n",
    "\n"
   ]
  },
  {
   "cell_type": "markdown",
   "id": "arranged-oracle",
   "metadata": {},
   "source": [
    "Now, let's modify the `Circle` class and overriding the `==` comparison operator.\n"
   ]
  },
  {
   "cell_type": "code",
   "execution_count": 36,
   "id": "controlled-emergency",
   "metadata": {},
   "outputs": [
    {
     "data": {
      "text/plain": [
       "False"
      ]
     },
     "execution_count": 36,
     "metadata": {},
     "output_type": "execute_result"
    }
   ],
   "source": [
    "# Before overriding\n",
    "\n",
    "class Circle:\n",
    "    def __init__(self, a, b, r):\n",
    "        self.a = a\n",
    "        self.b = b\n",
    "        self.r = r\n",
    "    \n",
    "    def __str__(self):\n",
    "        return \"Circle center is ({a}, {b}), and the radius is {r}.\".format(a=self.a, b=self.b, r=self.r)\n",
    "    \n",
    "\n",
    "circle_A = Circle(3,4,2)\n",
    "circle_B = Circle(3,4,2)\n",
    "\n",
    "# The == operator compare that memory address, but not the values of center and radius.\n",
    "circle_A == circle_B\n",
    "\n"
   ]
  },
  {
   "cell_type": "code",
   "execution_count": 38,
   "id": "round-narrative",
   "metadata": {},
   "outputs": [
    {
     "data": {
      "text/plain": [
       "True"
      ]
     },
     "execution_count": 38,
     "metadata": {},
     "output_type": "execute_result"
    }
   ],
   "source": [
    "# overriding example\n",
    "\n",
    "class Circle:\n",
    "    def __init__(self, a, b, r):\n",
    "        self.a = a\n",
    "        self.b = b\n",
    "        self.r = r\n",
    "    \n",
    "    def __str__(self):\n",
    "        return \"Circle center is ({a}, {b}), and the radius is {r}.\".format(a=self.a, b=self.b, r=self.r)\n",
    "    \n",
    "    def __eq__(self, other):\n",
    "        if self.a == other.a and self.b == other.b and self.r == other.r:\n",
    "            return True\n",
    "        else:\n",
    "            return False\n",
    "    \n",
    "\n",
    "circle_A = Circle(3,4,2)\n",
    "circle_B = Circle(3,4,2)\n",
    "\n",
    "# The == operator compare that memory address, but not the values of center and radius.\n",
    "circle_A == circle_B\n"
   ]
  },
  {
   "cell_type": "code",
   "execution_count": 43,
   "id": "employed-characterization",
   "metadata": {},
   "outputs": [
    {
     "name": "stdout",
     "output_type": "stream",
     "text": [
      "They are same circle.\n"
     ]
    }
   ],
   "source": [
    "if circle_A == circle_B:\n",
    "    print(\"They are same circle.\")\n",
    "else:\n",
    "    print(\"They are different circle.\")"
   ]
  }
 ],
 "metadata": {
  "kernelspec": {
   "display_name": "fintechlab",
   "language": "python",
   "name": "fintechlab"
  },
  "language_info": {
   "codemirror_mode": {
    "name": "ipython",
    "version": 3
   },
   "file_extension": ".py",
   "mimetype": "text/x-python",
   "name": "python",
   "nbconvert_exporter": "python",
   "pygments_lexer": "ipython3",
   "version": "3.8.5"
  }
 },
 "nbformat": 4,
 "nbformat_minor": 5
}
