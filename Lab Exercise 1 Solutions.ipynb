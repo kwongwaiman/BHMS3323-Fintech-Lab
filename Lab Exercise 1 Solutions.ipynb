{
 "cells": [
  {
   "cell_type": "markdown",
   "id": "heard-tennessee",
   "metadata": {},
   "source": [
    "## Lab Exercise 1"
   ]
  },
  {
   "cell_type": "markdown",
   "id": "brazilian-former",
   "metadata": {},
   "source": [
    "### You need to print the notebook as PDF and submit it on moodle\n",
    "#### The deadline of submission is 23:59, 5 Feb 2021"
   ]
  },
  {
   "cell_type": "markdown",
   "id": "bulgarian-capture",
   "metadata": {},
   "source": [
    "**Question 1**\n",
    "\n",
    "**Rewrite the code below to fulfill the following requirements:**\n",
    "1. if the variable `marks` is less than 0, output \"Marks can't be a negative number\"\n",
    "2. if the variable `marks` is larger than 100, output \"Marks should be smaller than 100.\" \n"
   ]
  },
  {
   "cell_type": "code",
   "execution_count": 5,
   "id": "insured-fetish",
   "metadata": {},
   "outputs": [
    {
     "name": "stdout",
     "output_type": "stream",
     "text": [
      "Your grade is A\n"
     ]
    }
   ],
   "source": [
    "# Question 1\n",
    "# Change the code below\n",
    "\n",
    "marks = 96\n",
    "grade = 'F'\n",
    "\n",
    "if marks > 0 and marks < 40:\n",
    "    grade = 'F'\n",
    "elif marks >=40 and marks < 60:\n",
    "    grade = 'D'\n",
    "elif marks >=60 and marks < 70:\n",
    "    grade = 'C'\n",
    "elif marks >=70 and marks < 80:\n",
    "    grade = 'B'\n",
    "elif marks >=80:\n",
    "    grade = 'A'\n",
    "\n",
    "if marks < 0:\n",
    "    print(\"Marks can't be a negative number\")\n",
    "elif marks >100: \n",
    "    print(\"Marks should be samller than 100\")\n",
    "else:\n",
    "    print(\"Your grade is \" + grade)"
   ]
  },
  {
   "cell_type": "markdown",
   "id": "sunrise-gambling",
   "metadata": {},
   "source": [
    "**Question 2**\n",
    "\n",
    "**Rewrite the code below for printing the number 1 to 10, but skipping 3.**\n",
    "\n",
    "Your output should look like this:\n",
    "1\n",
    "2\n",
    "4\n",
    "5\n",
    "6\n",
    "7\n",
    "8\n",
    "9\n",
    "10"
   ]
  },
  {
   "cell_type": "code",
   "execution_count": 6,
   "id": "offshore-trustee",
   "metadata": {},
   "outputs": [
    {
     "name": "stdout",
     "output_type": "stream",
     "text": [
      "1\n",
      "2\n",
      "4\n",
      "5\n",
      "6\n",
      "7\n",
      "8\n",
      "9\n",
      "10\n"
     ]
    }
   ],
   "source": [
    "# Question 2\n",
    "# Change the code below\n",
    "\n",
    "i = 0\n",
    "\n",
    "while i < 10:\n",
    "    i = i + 1\n",
    "    if i == 3:\n",
    "        continue\n",
    "    else:\n",
    "        print(i)"
   ]
  },
  {
   "cell_type": "markdown",
   "id": "silver-accessory",
   "metadata": {},
   "source": [
    "**Question 3**\n",
    "\n",
    "**Use `for` loop to print a multiplication charts of 1-12.**\n",
    "\n",
    "Your output should look like this:\n",
    "\n",
    "![if else](images/lab_exercise01_multi_table.png)"
   ]
  },
  {
   "cell_type": "code",
   "execution_count": 3,
   "id": "moved-offering",
   "metadata": {},
   "outputs": [
    {
     "name": "stdout",
     "output_type": "stream",
     "text": [
      "12345678"
     ]
    }
   ],
   "source": [
    "# Hints\n",
    "# if you add (end = \"\") in the print function, your will print without newline\n",
    "# below is an example to print 0-8 in a same line\n",
    "# range(1,9) is an iteration object start from 1 to 8\n",
    "\n",
    "for i in range(1,9):\n",
    "    print(i, end =\"\")"
   ]
  },
  {
   "cell_type": "code",
   "execution_count": 8,
   "id": "german-shoot",
   "metadata": {
    "scrolled": true
   },
   "outputs": [
    {
     "name": "stdout",
     "output_type": "stream",
     "text": [
      "1 2 3 4 5 6 7 8 9 10 11 12 \n",
      "2 4 6 8 10 12 14 16 18 20 22 24 \n",
      "3 6 9 12 15 18 21 24 27 30 33 36 \n",
      "4 8 12 16 20 24 28 32 36 40 44 48 \n",
      "5 10 15 20 25 30 35 40 45 50 55 60 \n",
      "6 12 18 24 30 36 42 48 54 60 66 72 \n",
      "7 14 21 28 35 42 49 56 63 70 77 84 \n",
      "8 16 24 32 40 48 56 64 72 80 88 96 \n",
      "9 18 27 36 45 54 63 72 81 90 99 108 \n",
      "10 20 30 40 50 60 70 80 90 100 110 120 \n",
      "11 22 33 44 55 66 77 88 99 110 121 132 \n",
      "12 24 36 48 60 72 84 96 108 120 132 144 \n"
     ]
    }
   ],
   "source": [
    "# Question 3\n",
    "# Write you program below:\n",
    "\n",
    "for i in range(1,13):\n",
    "    for j in range(1,13):\n",
    "        print(i*j, end =\"\")\n",
    "        print(\" \", end =\"\")\n",
    "\n",
    "    print(\"\")\n"
   ]
  },
  {
   "cell_type": "markdown",
   "id": "equipped-encounter",
   "metadata": {},
   "source": [
    "**Question 4**\n",
    "\n",
    "**Use a `while` loop to find out the factorial of variable `n`**\n",
    "\n",
    "For example: \n",
    "\n",
    "4! = 4 * 3 * 2 * 1 = 24\n",
    "\n",
    "10! = 10 * 9 * 8 * 7 * 6 * 5 * 4 * 3 * 2 * 1 = 3628800\n",
    "\n",
    "\n"
   ]
  },
  {
   "cell_type": "code",
   "execution_count": 12,
   "id": "distinct-bunch",
   "metadata": {},
   "outputs": [
    {
     "data": {
      "text/plain": [
       "24"
      ]
     },
     "execution_count": 12,
     "metadata": {},
     "output_type": "execute_result"
    }
   ],
   "source": [
    "# Question 4\n",
    "# n = 4 is for testing, your program should work for any value of n\n",
    "\n",
    "n = 4\n",
    "\n",
    "# write your program below:\n",
    "result = 1\n",
    "for i in range(1,n+1):\n",
    "    result *= i\n",
    "\n",
    "result"
   ]
  },
  {
   "cell_type": "code",
   "execution_count": null,
   "id": "fluid-cream",
   "metadata": {},
   "outputs": [],
   "source": []
  }
 ],
 "metadata": {
  "kernelspec": {
   "display_name": "fintechlab",
   "language": "python",
   "name": "fintechlab"
  },
  "language_info": {
   "codemirror_mode": {
    "name": "ipython",
    "version": 3
   },
   "file_extension": ".py",
   "mimetype": "text/x-python",
   "name": "python",
   "nbconvert_exporter": "python",
   "pygments_lexer": "ipython3",
   "version": "3.8.5"
  }
 },
 "nbformat": 4,
 "nbformat_minor": 5
}
