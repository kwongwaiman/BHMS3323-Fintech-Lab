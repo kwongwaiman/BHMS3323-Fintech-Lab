{
 "cells": [
  {
   "cell_type": "markdown",
   "id": "vocal-internet",
   "metadata": {},
   "source": [
    "## BHMS3323 Practices of FinTech"
   ]
  },
  {
   "cell_type": "markdown",
   "id": "comparative-there",
   "metadata": {},
   "source": [
    "## Lab4 - Pandas"
   ]
  },
  {
   "cell_type": "markdown",
   "id": "prime-premium",
   "metadata": {},
   "source": [
    "The `pandas` package is one of the most important tool for data scientists who working on Python. \n",
    "\n",
    "We can use `pandas` to explore data in a dataset that in *table* format. In `pandas`, it uses DataFrame to describe tabular data. \n",
    "\n",
    "To use `pandas`, you have to download and import the package in your Python environment. In Colab, you can directly import the package using the codes below.  "
   ]
  },
  {
   "cell_type": "code",
   "execution_count": 1,
   "id": "departmental-charge",
   "metadata": {},
   "outputs": [],
   "source": [
    "import pandas as pd  #import the pandas package and give an alias as 'pd' "
   ]
  },
  {
   "cell_type": "markdown",
   "id": "external-peripheral",
   "metadata": {},
   "source": [
    "Pandas has to primary compoents, they are `Series` and `DataFrame`.\n",
    "\n",
    "A Series is similiar to a list but `series` is a list with an index."
   ]
  },
  {
   "cell_type": "code",
   "execution_count": 2,
   "id": "previous-outreach",
   "metadata": {},
   "outputs": [],
   "source": [
    "# x is a list\n",
    "\n",
    "x = ['a','b', 'c']\n",
    "y = pd.Series(['a' ,'b','c'])\n"
   ]
  },
  {
   "cell_type": "code",
   "execution_count": 3,
   "id": "abroad-fever",
   "metadata": {},
   "outputs": [
    {
     "name": "stdout",
     "output_type": "stream",
     "text": [
      "['a', 'b', 'c']\n"
     ]
    }
   ],
   "source": [
    "print(x)"
   ]
  },
  {
   "cell_type": "code",
   "execution_count": 4,
   "id": "viral-favorite",
   "metadata": {},
   "outputs": [
    {
     "name": "stdout",
     "output_type": "stream",
     "text": [
      "0    a\n",
      "1    b\n",
      "2    c\n",
      "dtype: object\n"
     ]
    }
   ],
   "source": [
    "print(y)"
   ]
  },
  {
   "cell_type": "markdown",
   "id": "adolescent-management",
   "metadata": {},
   "source": [
    "If you do not specify any index to a series, it will automatic assign numeric index to it.\n",
    "\n",
    "You can access the 2nd item of a list or series by specifying an index of 1.\n",
    "\n",
    "E.g. `x[1]` and `y[1]` "
   ]
  },
  {
   "cell_type": "code",
   "execution_count": 5,
   "id": "strategic-right",
   "metadata": {},
   "outputs": [
    {
     "name": "stdout",
     "output_type": "stream",
     "text": [
      "b\n"
     ]
    }
   ],
   "source": [
    "print(x[1])"
   ]
  },
  {
   "cell_type": "code",
   "execution_count": 6,
   "id": "heard-earth",
   "metadata": {},
   "outputs": [
    {
     "name": "stdout",
     "output_type": "stream",
     "text": [
      "b\n"
     ]
    }
   ],
   "source": [
    "print(y[1])"
   ]
  },
  {
   "cell_type": "markdown",
   "id": "running-meditation",
   "metadata": {},
   "source": [
    "What makes `series` different from `list` is you can refer an item in a `series` by self-defining an index label.\n",
    "\n",
    "We can define a series `score` to represent the scores of Team A, B, and C in the following way.\n"
   ]
  },
  {
   "cell_type": "code",
   "execution_count": 7,
   "id": "after-guinea",
   "metadata": {},
   "outputs": [
    {
     "name": "stdout",
     "output_type": "stream",
     "text": [
      "Team A    56\n",
      "Team B    57\n",
      "Team C    62\n",
      "dtype: int64\n"
     ]
    }
   ],
   "source": [
    "# y is a series with index [\"Team A\", \"Team B\", \"Team C\"] \n",
    "score = pd.Series([56,57,62], index=[\"Team A\", \"Team B\", \"Team C\"])\n",
    "\n",
    "print(score)"
   ]
  },
  {
   "cell_type": "code",
   "execution_count": 8,
   "id": "meaningful-variable",
   "metadata": {},
   "outputs": [
    {
     "name": "stdout",
     "output_type": "stream",
     "text": [
      "62\n",
      "62\n"
     ]
    }
   ],
   "source": [
    "# you can get the score of Team C by either the following way:\n",
    "\n",
    "print(score[2])\n",
    "\n",
    "print(score[\"Team C\"])"
   ]
  },
  {
   "cell_type": "markdown",
   "id": "considerable-plate",
   "metadata": {},
   "source": [
    "We can use `pandas` to represent tabular data. Suppose that we have 10 students in this Fintech class and their marks of assignment 1 and 2 are as follow:\n",
    "    \n",
    "![score](images/lab04_figure1.png)\n"
   ]
  },
  {
   "cell_type": "markdown",
   "id": "fossil-rotation",
   "metadata": {},
   "source": [
    "We can create a variable `student_name` to cotains all the names of our students.\n",
    "\n",
    "`student_name = ['Peter', 'Joe', 'Kris', 'Amy', 'Alfred', 'Jan', 'Bill', 'Christine', 'Roy', 'Phoebe']`\n",
    "\n",
    "Then we can create two series of `assignment1` and `assignment2` to store their marks.\n",
    "\n",
    "`assignment1 = pd.Series([60,75,95,90,35,65,80,90,75,70], index=student_name)`\n",
    "\n",
    "<br/>\n",
    "\n",
    "`assignment2 = pd.Series([60,80,100,85,70,80,60,85,70,60], index=student_name)`\n",
    "<br/>"
   ]
  },
  {
   "cell_type": "code",
   "execution_count": 9,
   "id": "overhead-darwin",
   "metadata": {},
   "outputs": [],
   "source": [
    "student_name = ['Peter', 'Joe', 'Kris', 'Amy', 'Alfred', 'Jan', 'Bill', 'Christine', 'Roy', 'Phoebe']\n",
    "assignment1 = pd.Series([60,75,95,90,35,65,80,90,75,70], index=student_name)\n",
    "assignment2 = pd.Series([60,80,100,85,70,80,60,85,70,60], index=student_name)"
   ]
  },
  {
   "cell_type": "code",
   "execution_count": 10,
   "id": "wicked-coach",
   "metadata": {},
   "outputs": [
    {
     "name": "stdout",
     "output_type": "stream",
     "text": [
      "Peter        60\n",
      "Joe          75\n",
      "Kris         95\n",
      "Amy          90\n",
      "Alfred       35\n",
      "Jan          65\n",
      "Bill         80\n",
      "Christine    90\n",
      "Roy          75\n",
      "Phoebe       70\n",
      "dtype: int64\n"
     ]
    }
   ],
   "source": [
    "print(assignment1)"
   ]
  },
  {
   "cell_type": "code",
   "execution_count": 11,
   "id": "external-honolulu",
   "metadata": {},
   "outputs": [
    {
     "name": "stdout",
     "output_type": "stream",
     "text": [
      "Peter         60\n",
      "Joe           80\n",
      "Kris         100\n",
      "Amy           85\n",
      "Alfred        70\n",
      "Jan           80\n",
      "Bill          60\n",
      "Christine     85\n",
      "Roy           70\n",
      "Phoebe        60\n",
      "dtype: int64\n"
     ]
    }
   ],
   "source": [
    "print(assignment2)"
   ]
  },
  {
   "cell_type": "code",
   "execution_count": 12,
   "id": "turned-cleanup",
   "metadata": {},
   "outputs": [
    {
     "name": "stdout",
     "output_type": "stream",
     "text": [
      "75\n",
      "80\n"
     ]
    }
   ],
   "source": [
    "# exercise 1\n",
    "# What are the marks of Joe's assignment 1 and assignment 2.\n",
    "\n",
    "print(assignment1['Joe'])\n",
    "print(assignment2['Joe'])"
   ]
  },
  {
   "cell_type": "code",
   "execution_count": 13,
   "id": "entitled-publicity",
   "metadata": {},
   "outputs": [
    {
     "name": "stdout",
     "output_type": "stream",
     "text": [
      "Avg Mark: 75.0\n",
      "Max Mark: 100\n",
      "Min Mark: 60\n",
      "Std. Dev.: 13.333333333333334\n"
     ]
    }
   ],
   "source": [
    "# exercise 2\n",
    "# What is the average marks of assignment 1? Wnat is the highest marks, lowest marks, and s.d.?\n",
    "\n",
    "print(\"Avg Mark: \" + str(assignment2.mean()))\n",
    "print(\"Max Mark: \" + str(assignment2.max()))\n",
    "print(\"Min Mark: \" + str(assignment2.min()))\n",
    "print(\"Std. Dev.: \" + str(assignment2.std()))"
   ]
  },
  {
   "cell_type": "markdown",
   "id": "sustained-french",
   "metadata": {},
   "source": [
    "Actually, you can form a DataFrame to represent the data by combining the two series.\n",
    "\n",
    "![dataframe](images/lab04_figure2.png)"
   ]
  },
  {
   "cell_type": "code",
   "execution_count": 14,
   "id": "funded-reynolds",
   "metadata": {},
   "outputs": [
    {
     "data": {
      "text/html": [
       "<div>\n",
       "<style scoped>\n",
       "    .dataframe tbody tr th:only-of-type {\n",
       "        vertical-align: middle;\n",
       "    }\n",
       "\n",
       "    .dataframe tbody tr th {\n",
       "        vertical-align: top;\n",
       "    }\n",
       "\n",
       "    .dataframe thead th {\n",
       "        text-align: right;\n",
       "    }\n",
       "</style>\n",
       "<table border=\"1\" class=\"dataframe\">\n",
       "  <thead>\n",
       "    <tr style=\"text-align: right;\">\n",
       "      <th></th>\n",
       "      <th>assignment 1</th>\n",
       "      <th>assignment 2</th>\n",
       "    </tr>\n",
       "  </thead>\n",
       "  <tbody>\n",
       "    <tr>\n",
       "      <th>Peter</th>\n",
       "      <td>60</td>\n",
       "      <td>60</td>\n",
       "    </tr>\n",
       "    <tr>\n",
       "      <th>Joe</th>\n",
       "      <td>75</td>\n",
       "      <td>80</td>\n",
       "    </tr>\n",
       "    <tr>\n",
       "      <th>Kris</th>\n",
       "      <td>95</td>\n",
       "      <td>100</td>\n",
       "    </tr>\n",
       "    <tr>\n",
       "      <th>Amy</th>\n",
       "      <td>90</td>\n",
       "      <td>85</td>\n",
       "    </tr>\n",
       "    <tr>\n",
       "      <th>Alfred</th>\n",
       "      <td>35</td>\n",
       "      <td>70</td>\n",
       "    </tr>\n",
       "    <tr>\n",
       "      <th>Jan</th>\n",
       "      <td>65</td>\n",
       "      <td>80</td>\n",
       "    </tr>\n",
       "    <tr>\n",
       "      <th>Bill</th>\n",
       "      <td>80</td>\n",
       "      <td>60</td>\n",
       "    </tr>\n",
       "    <tr>\n",
       "      <th>Christine</th>\n",
       "      <td>90</td>\n",
       "      <td>85</td>\n",
       "    </tr>\n",
       "    <tr>\n",
       "      <th>Roy</th>\n",
       "      <td>75</td>\n",
       "      <td>70</td>\n",
       "    </tr>\n",
       "    <tr>\n",
       "      <th>Phoebe</th>\n",
       "      <td>70</td>\n",
       "      <td>60</td>\n",
       "    </tr>\n",
       "  </tbody>\n",
       "</table>\n",
       "</div>"
      ],
      "text/plain": [
       "           assignment 1  assignment 2\n",
       "Peter                60            60\n",
       "Joe                  75            80\n",
       "Kris                 95           100\n",
       "Amy                  90            85\n",
       "Alfred               35            70\n",
       "Jan                  65            80\n",
       "Bill                 80            60\n",
       "Christine            90            85\n",
       "Roy                  75            70\n",
       "Phoebe               70            60"
      ]
     },
     "execution_count": 14,
     "metadata": {},
     "output_type": "execute_result"
    }
   ],
   "source": [
    "# data is a Python dictionary \n",
    "\n",
    "data = {\n",
    "    \"assignment 1\": assignment1,\n",
    "    \"assignment 2\": assignment2\n",
    "}\n",
    "\n",
    "result = pd.DataFrame(data)\n",
    "\n",
    "result"
   ]
  },
  {
   "cell_type": "markdown",
   "id": "patent-format",
   "metadata": {},
   "source": [
    "You can extract Kris's scores by locating the row using the 'index name'.\n",
    "\n",
    "The code is `.loc`."
   ]
  },
  {
   "cell_type": "code",
   "execution_count": 15,
   "id": "supreme-lover",
   "metadata": {},
   "outputs": [
    {
     "data": {
      "text/plain": [
       "assignment 1     95\n",
       "assignment 2    100\n",
       "Name: Kris, dtype: int64"
      ]
     },
     "execution_count": 15,
     "metadata": {},
     "output_type": "execute_result"
    }
   ],
   "source": [
    "result.loc[\"Kris\"]"
   ]
  },
  {
   "cell_type": "markdown",
   "id": "incredible-librarian",
   "metadata": {},
   "source": [
    "OR you can locate the 3rd row by using 'index number'.\n",
    "\n",
    "The code is `.iloc`"
   ]
  },
  {
   "cell_type": "code",
   "execution_count": 16,
   "id": "metropolitan-reduction",
   "metadata": {},
   "outputs": [
    {
     "data": {
      "text/plain": [
       "assignment 1     95\n",
       "assignment 2    100\n",
       "Name: Kris, dtype: int64"
      ]
     },
     "execution_count": 16,
     "metadata": {},
     "output_type": "execute_result"
    }
   ],
   "source": [
    "# index number starts with 0, the 3rd item has index number of 2\n",
    "\n",
    "result.iloc[2]"
   ]
  },
  {
   "cell_type": "markdown",
   "id": "comparative-taxation",
   "metadata": {},
   "source": [
    "You can append new rows for new student by:\n",
    "\n"
   ]
  },
  {
   "cell_type": "code",
   "execution_count": 17,
   "id": "north-vehicle",
   "metadata": {},
   "outputs": [
    {
     "data": {
      "text/plain": [
       "assignment 1    60\n",
       "assignment 2    70\n",
       "dtype: int64"
      ]
     },
     "execution_count": 17,
     "metadata": {},
     "output_type": "execute_result"
    }
   ],
   "source": [
    "# create a series that contains raymond's marks\n",
    "ray_marks = pd.Series([60,70], index=[\"assignment 1\", \"assignment 2\"])\n",
    "\n",
    "ray_marks"
   ]
  },
  {
   "cell_type": "code",
   "execution_count": 18,
   "id": "favorite-harvey",
   "metadata": {},
   "outputs": [
    {
     "data": {
      "text/html": [
       "<div>\n",
       "<style scoped>\n",
       "    .dataframe tbody tr th:only-of-type {\n",
       "        vertical-align: middle;\n",
       "    }\n",
       "\n",
       "    .dataframe tbody tr th {\n",
       "        vertical-align: top;\n",
       "    }\n",
       "\n",
       "    .dataframe thead th {\n",
       "        text-align: right;\n",
       "    }\n",
       "</style>\n",
       "<table border=\"1\" class=\"dataframe\">\n",
       "  <thead>\n",
       "    <tr style=\"text-align: right;\">\n",
       "      <th></th>\n",
       "      <th>assignment 1</th>\n",
       "      <th>assignment 2</th>\n",
       "    </tr>\n",
       "  </thead>\n",
       "  <tbody>\n",
       "    <tr>\n",
       "      <th>Raymond</th>\n",
       "      <td>60</td>\n",
       "      <td>70</td>\n",
       "    </tr>\n",
       "  </tbody>\n",
       "</table>\n",
       "</div>"
      ],
      "text/plain": [
       "         assignment 1  assignment 2\n",
       "Raymond            60            70"
      ]
     },
     "execution_count": 18,
     "metadata": {},
     "output_type": "execute_result"
    }
   ],
   "source": [
    "# create a dataframe with the row index of \"raymond\"\n",
    "# index has to be an array even you only include one record\n",
    "\n",
    "ray_record = pd.DataFrame([ray_marks], index=[\"Raymond\"])\n",
    "\n",
    "ray_record"
   ]
  },
  {
   "cell_type": "code",
   "execution_count": 19,
   "id": "bulgarian-concentration",
   "metadata": {},
   "outputs": [
    {
     "data": {
      "text/html": [
       "<div>\n",
       "<style scoped>\n",
       "    .dataframe tbody tr th:only-of-type {\n",
       "        vertical-align: middle;\n",
       "    }\n",
       "\n",
       "    .dataframe tbody tr th {\n",
       "        vertical-align: top;\n",
       "    }\n",
       "\n",
       "    .dataframe thead th {\n",
       "        text-align: right;\n",
       "    }\n",
       "</style>\n",
       "<table border=\"1\" class=\"dataframe\">\n",
       "  <thead>\n",
       "    <tr style=\"text-align: right;\">\n",
       "      <th></th>\n",
       "      <th>assignment 1</th>\n",
       "      <th>assignment 2</th>\n",
       "    </tr>\n",
       "  </thead>\n",
       "  <tbody>\n",
       "    <tr>\n",
       "      <th>Peter</th>\n",
       "      <td>60</td>\n",
       "      <td>60</td>\n",
       "    </tr>\n",
       "    <tr>\n",
       "      <th>Joe</th>\n",
       "      <td>75</td>\n",
       "      <td>80</td>\n",
       "    </tr>\n",
       "    <tr>\n",
       "      <th>Kris</th>\n",
       "      <td>95</td>\n",
       "      <td>100</td>\n",
       "    </tr>\n",
       "    <tr>\n",
       "      <th>Amy</th>\n",
       "      <td>90</td>\n",
       "      <td>85</td>\n",
       "    </tr>\n",
       "    <tr>\n",
       "      <th>Alfred</th>\n",
       "      <td>35</td>\n",
       "      <td>70</td>\n",
       "    </tr>\n",
       "    <tr>\n",
       "      <th>Jan</th>\n",
       "      <td>65</td>\n",
       "      <td>80</td>\n",
       "    </tr>\n",
       "    <tr>\n",
       "      <th>Bill</th>\n",
       "      <td>80</td>\n",
       "      <td>60</td>\n",
       "    </tr>\n",
       "    <tr>\n",
       "      <th>Christine</th>\n",
       "      <td>90</td>\n",
       "      <td>85</td>\n",
       "    </tr>\n",
       "    <tr>\n",
       "      <th>Roy</th>\n",
       "      <td>75</td>\n",
       "      <td>70</td>\n",
       "    </tr>\n",
       "    <tr>\n",
       "      <th>Phoebe</th>\n",
       "      <td>70</td>\n",
       "      <td>60</td>\n",
       "    </tr>\n",
       "    <tr>\n",
       "      <th>Raymond</th>\n",
       "      <td>60</td>\n",
       "      <td>70</td>\n",
       "    </tr>\n",
       "  </tbody>\n",
       "</table>\n",
       "</div>"
      ],
      "text/plain": [
       "           assignment 1  assignment 2\n",
       "Peter                60            60\n",
       "Joe                  75            80\n",
       "Kris                 95           100\n",
       "Amy                  90            85\n",
       "Alfred               35            70\n",
       "Jan                  65            80\n",
       "Bill                 80            60\n",
       "Christine            90            85\n",
       "Roy                  75            70\n",
       "Phoebe               70            60\n",
       "Raymond              60            70"
      ]
     },
     "execution_count": 19,
     "metadata": {},
     "output_type": "execute_result"
    }
   ],
   "source": [
    "# concat the two Dataframes together.   \n",
    "# Noted that you should pass a DataFrame array as the argument\n",
    "\n",
    "pd.concat([result, ray_record])"
   ]
  },
  {
   "cell_type": "code",
   "execution_count": 20,
   "id": "responsible-webmaster",
   "metadata": {},
   "outputs": [
    {
     "data": {
      "text/html": [
       "<div>\n",
       "<style scoped>\n",
       "    .dataframe tbody tr th:only-of-type {\n",
       "        vertical-align: middle;\n",
       "    }\n",
       "\n",
       "    .dataframe tbody tr th {\n",
       "        vertical-align: top;\n",
       "    }\n",
       "\n",
       "    .dataframe thead th {\n",
       "        text-align: right;\n",
       "    }\n",
       "</style>\n",
       "<table border=\"1\" class=\"dataframe\">\n",
       "  <thead>\n",
       "    <tr style=\"text-align: right;\">\n",
       "      <th></th>\n",
       "      <th>assignment 1</th>\n",
       "      <th>assignment 2</th>\n",
       "    </tr>\n",
       "  </thead>\n",
       "  <tbody>\n",
       "    <tr>\n",
       "      <th>Peter</th>\n",
       "      <td>60</td>\n",
       "      <td>60</td>\n",
       "    </tr>\n",
       "    <tr>\n",
       "      <th>Joe</th>\n",
       "      <td>75</td>\n",
       "      <td>80</td>\n",
       "    </tr>\n",
       "    <tr>\n",
       "      <th>Kris</th>\n",
       "      <td>95</td>\n",
       "      <td>100</td>\n",
       "    </tr>\n",
       "    <tr>\n",
       "      <th>Amy</th>\n",
       "      <td>90</td>\n",
       "      <td>85</td>\n",
       "    </tr>\n",
       "    <tr>\n",
       "      <th>Alfred</th>\n",
       "      <td>35</td>\n",
       "      <td>70</td>\n",
       "    </tr>\n",
       "    <tr>\n",
       "      <th>Jan</th>\n",
       "      <td>65</td>\n",
       "      <td>80</td>\n",
       "    </tr>\n",
       "    <tr>\n",
       "      <th>Bill</th>\n",
       "      <td>80</td>\n",
       "      <td>60</td>\n",
       "    </tr>\n",
       "    <tr>\n",
       "      <th>Christine</th>\n",
       "      <td>90</td>\n",
       "      <td>85</td>\n",
       "    </tr>\n",
       "    <tr>\n",
       "      <th>Roy</th>\n",
       "      <td>75</td>\n",
       "      <td>70</td>\n",
       "    </tr>\n",
       "    <tr>\n",
       "      <th>Phoebe</th>\n",
       "      <td>70</td>\n",
       "      <td>60</td>\n",
       "    </tr>\n",
       "    <tr>\n",
       "      <th>Raymond</th>\n",
       "      <td>60</td>\n",
       "      <td>70</td>\n",
       "    </tr>\n",
       "  </tbody>\n",
       "</table>\n",
       "</div>"
      ],
      "text/plain": [
       "           assignment 1  assignment 2\n",
       "Peter                60            60\n",
       "Joe                  75            80\n",
       "Kris                 95           100\n",
       "Amy                  90            85\n",
       "Alfred               35            70\n",
       "Jan                  65            80\n",
       "Bill                 80            60\n",
       "Christine            90            85\n",
       "Roy                  75            70\n",
       "Phoebe               70            60\n",
       "Raymond              60            70"
      ]
     },
     "execution_count": 20,
     "metadata": {},
     "output_type": "execute_result"
    }
   ],
   "source": [
    "result = pd.concat([result, ray_record])\n",
    "result"
   ]
  },
  {
   "cell_type": "markdown",
   "id": "right-warrant",
   "metadata": {},
   "source": [
    "Pandas DataFrame provides lots of functions regarding to descriptive statistics. Please refer to W3School website [link](https://www.w3schools.com/python/pandas/default.asp) for details."
   ]
  },
  {
   "cell_type": "code",
   "execution_count": 21,
   "id": "naughty-security",
   "metadata": {},
   "outputs": [
    {
     "data": {
      "text/html": [
       "<div>\n",
       "<style scoped>\n",
       "    .dataframe tbody tr th:only-of-type {\n",
       "        vertical-align: middle;\n",
       "    }\n",
       "\n",
       "    .dataframe tbody tr th {\n",
       "        vertical-align: top;\n",
       "    }\n",
       "\n",
       "    .dataframe thead th {\n",
       "        text-align: right;\n",
       "    }\n",
       "</style>\n",
       "<table border=\"1\" class=\"dataframe\">\n",
       "  <thead>\n",
       "    <tr style=\"text-align: right;\">\n",
       "      <th></th>\n",
       "      <th>assignment 1</th>\n",
       "      <th>assignment 2</th>\n",
       "    </tr>\n",
       "  </thead>\n",
       "  <tbody>\n",
       "    <tr>\n",
       "      <th>count</th>\n",
       "      <td>11.000000</td>\n",
       "      <td>11.000000</td>\n",
       "    </tr>\n",
       "    <tr>\n",
       "      <th>mean</th>\n",
       "      <td>72.272727</td>\n",
       "      <td>74.545455</td>\n",
       "    </tr>\n",
       "    <tr>\n",
       "      <th>std</th>\n",
       "      <td>17.228412</td>\n",
       "      <td>12.738631</td>\n",
       "    </tr>\n",
       "    <tr>\n",
       "      <th>min</th>\n",
       "      <td>35.000000</td>\n",
       "      <td>60.000000</td>\n",
       "    </tr>\n",
       "    <tr>\n",
       "      <th>25%</th>\n",
       "      <td>62.500000</td>\n",
       "      <td>65.000000</td>\n",
       "    </tr>\n",
       "    <tr>\n",
       "      <th>50%</th>\n",
       "      <td>75.000000</td>\n",
       "      <td>70.000000</td>\n",
       "    </tr>\n",
       "    <tr>\n",
       "      <th>75%</th>\n",
       "      <td>85.000000</td>\n",
       "      <td>82.500000</td>\n",
       "    </tr>\n",
       "    <tr>\n",
       "      <th>max</th>\n",
       "      <td>95.000000</td>\n",
       "      <td>100.000000</td>\n",
       "    </tr>\n",
       "  </tbody>\n",
       "</table>\n",
       "</div>"
      ],
      "text/plain": [
       "       assignment 1  assignment 2\n",
       "count     11.000000     11.000000\n",
       "mean      72.272727     74.545455\n",
       "std       17.228412     12.738631\n",
       "min       35.000000     60.000000\n",
       "25%       62.500000     65.000000\n",
       "50%       75.000000     70.000000\n",
       "75%       85.000000     82.500000\n",
       "max       95.000000    100.000000"
      ]
     },
     "execution_count": 21,
     "metadata": {},
     "output_type": "execute_result"
    }
   ],
   "source": [
    "result.describe()"
   ]
  },
  {
   "cell_type": "markdown",
   "id": "designing-distributor",
   "metadata": {},
   "source": [
    "You can also load data from an excel file with csv format into a DataFrame"
   ]
  },
  {
   "cell_type": "code",
   "execution_count": 22,
   "id": "identical-design",
   "metadata": {},
   "outputs": [
    {
     "data": {
      "text/html": [
       "<div>\n",
       "<style scoped>\n",
       "    .dataframe tbody tr th:only-of-type {\n",
       "        vertical-align: middle;\n",
       "    }\n",
       "\n",
       "    .dataframe tbody tr th {\n",
       "        vertical-align: top;\n",
       "    }\n",
       "\n",
       "    .dataframe thead th {\n",
       "        text-align: right;\n",
       "    }\n",
       "</style>\n",
       "<table border=\"1\" class=\"dataframe\">\n",
       "  <thead>\n",
       "    <tr style=\"text-align: right;\">\n",
       "      <th></th>\n",
       "      <th>Name</th>\n",
       "      <th>Assignment 1</th>\n",
       "      <th>Assignment 2</th>\n",
       "      <th>Final Exam</th>\n",
       "    </tr>\n",
       "  </thead>\n",
       "  <tbody>\n",
       "    <tr>\n",
       "      <th>0</th>\n",
       "      <td>Peter</td>\n",
       "      <td>60</td>\n",
       "      <td>60</td>\n",
       "      <td>60</td>\n",
       "    </tr>\n",
       "    <tr>\n",
       "      <th>1</th>\n",
       "      <td>Joe</td>\n",
       "      <td>75</td>\n",
       "      <td>80</td>\n",
       "      <td>50</td>\n",
       "    </tr>\n",
       "    <tr>\n",
       "      <th>2</th>\n",
       "      <td>Kris</td>\n",
       "      <td>95</td>\n",
       "      <td>100</td>\n",
       "      <td>95</td>\n",
       "    </tr>\n",
       "    <tr>\n",
       "      <th>3</th>\n",
       "      <td>Amy</td>\n",
       "      <td>90</td>\n",
       "      <td>85</td>\n",
       "      <td>95</td>\n",
       "    </tr>\n",
       "    <tr>\n",
       "      <th>4</th>\n",
       "      <td>Alfred</td>\n",
       "      <td>35</td>\n",
       "      <td>70</td>\n",
       "      <td>85</td>\n",
       "    </tr>\n",
       "    <tr>\n",
       "      <th>5</th>\n",
       "      <td>Jan</td>\n",
       "      <td>65</td>\n",
       "      <td>80</td>\n",
       "      <td>64</td>\n",
       "    </tr>\n",
       "    <tr>\n",
       "      <th>6</th>\n",
       "      <td>Bill</td>\n",
       "      <td>80</td>\n",
       "      <td>60</td>\n",
       "      <td>70</td>\n",
       "    </tr>\n",
       "    <tr>\n",
       "      <th>7</th>\n",
       "      <td>Christine</td>\n",
       "      <td>90</td>\n",
       "      <td>85</td>\n",
       "      <td>72</td>\n",
       "    </tr>\n",
       "    <tr>\n",
       "      <th>8</th>\n",
       "      <td>Roy</td>\n",
       "      <td>75</td>\n",
       "      <td>70</td>\n",
       "      <td>90</td>\n",
       "    </tr>\n",
       "    <tr>\n",
       "      <th>9</th>\n",
       "      <td>Phoebe</td>\n",
       "      <td>70</td>\n",
       "      <td>60</td>\n",
       "      <td>80</td>\n",
       "    </tr>\n",
       "  </tbody>\n",
       "</table>\n",
       "</div>"
      ],
      "text/plain": [
       "        Name  Assignment 1  Assignment 2  Final Exam\n",
       "0      Peter            60            60          60\n",
       "1        Joe            75            80          50\n",
       "2       Kris            95           100          95\n",
       "3        Amy            90            85          95\n",
       "4     Alfred            35            70          85\n",
       "5        Jan            65            80          64\n",
       "6       Bill            80            60          70\n",
       "7  Christine            90            85          72\n",
       "8        Roy            75            70          90\n",
       "9     Phoebe            70            60          80"
      ]
     },
     "execution_count": 22,
     "metadata": {},
     "output_type": "execute_result"
    }
   ],
   "source": [
    "#marks = pd.read_csv(\"https://raw.githubusercontent.com/kwongwaiman/BHMS3323-Fintech-Lab/main/data/lab4_marks.csv\")\n",
    "marks = pd.read_csv(\"data/lab4_marks.csv\")\n",
    "marks"
   ]
  },
  {
   "cell_type": "markdown",
   "id": "relevant-uruguay",
   "metadata": {},
   "source": [
    "Suppose the way to calculate the total marks of the subject is:\n",
    "\n",
    "(assignment 1) $\\times$ 30% + (assignment 2) $\\times$ 30% + (final exame) $\\times$ 40%\n",
    "\n",
    "We can calcuate the total marks for all students with the following codes:"
   ]
  },
  {
   "cell_type": "code",
   "execution_count": 23,
   "id": "emotional-development",
   "metadata": {},
   "outputs": [],
   "source": [
    "def cal_total(hw1, hw2, exam):\n",
    "    return (hw1*0.3+hw2*0.3+exam*0.4)\n",
    "\n",
    "marks['total'] = marks.apply(lambda row: cal_total(row['Assignment 1'], row['Assignment 2'], row['Final Exam']), axis = 1)\n",
    "    "
   ]
  },
  {
   "cell_type": "code",
   "execution_count": 24,
   "id": "referenced-diana",
   "metadata": {},
   "outputs": [
    {
     "data": {
      "text/html": [
       "<div>\n",
       "<style scoped>\n",
       "    .dataframe tbody tr th:only-of-type {\n",
       "        vertical-align: middle;\n",
       "    }\n",
       "\n",
       "    .dataframe tbody tr th {\n",
       "        vertical-align: top;\n",
       "    }\n",
       "\n",
       "    .dataframe thead th {\n",
       "        text-align: right;\n",
       "    }\n",
       "</style>\n",
       "<table border=\"1\" class=\"dataframe\">\n",
       "  <thead>\n",
       "    <tr style=\"text-align: right;\">\n",
       "      <th></th>\n",
       "      <th>Name</th>\n",
       "      <th>Assignment 1</th>\n",
       "      <th>Assignment 2</th>\n",
       "      <th>Final Exam</th>\n",
       "      <th>total</th>\n",
       "    </tr>\n",
       "  </thead>\n",
       "  <tbody>\n",
       "    <tr>\n",
       "      <th>0</th>\n",
       "      <td>Peter</td>\n",
       "      <td>60</td>\n",
       "      <td>60</td>\n",
       "      <td>60</td>\n",
       "      <td>60.0</td>\n",
       "    </tr>\n",
       "    <tr>\n",
       "      <th>1</th>\n",
       "      <td>Joe</td>\n",
       "      <td>75</td>\n",
       "      <td>80</td>\n",
       "      <td>50</td>\n",
       "      <td>66.5</td>\n",
       "    </tr>\n",
       "    <tr>\n",
       "      <th>2</th>\n",
       "      <td>Kris</td>\n",
       "      <td>95</td>\n",
       "      <td>100</td>\n",
       "      <td>95</td>\n",
       "      <td>96.5</td>\n",
       "    </tr>\n",
       "    <tr>\n",
       "      <th>3</th>\n",
       "      <td>Amy</td>\n",
       "      <td>90</td>\n",
       "      <td>85</td>\n",
       "      <td>95</td>\n",
       "      <td>90.5</td>\n",
       "    </tr>\n",
       "    <tr>\n",
       "      <th>4</th>\n",
       "      <td>Alfred</td>\n",
       "      <td>35</td>\n",
       "      <td>70</td>\n",
       "      <td>85</td>\n",
       "      <td>65.5</td>\n",
       "    </tr>\n",
       "    <tr>\n",
       "      <th>5</th>\n",
       "      <td>Jan</td>\n",
       "      <td>65</td>\n",
       "      <td>80</td>\n",
       "      <td>64</td>\n",
       "      <td>69.1</td>\n",
       "    </tr>\n",
       "    <tr>\n",
       "      <th>6</th>\n",
       "      <td>Bill</td>\n",
       "      <td>80</td>\n",
       "      <td>60</td>\n",
       "      <td>70</td>\n",
       "      <td>70.0</td>\n",
       "    </tr>\n",
       "    <tr>\n",
       "      <th>7</th>\n",
       "      <td>Christine</td>\n",
       "      <td>90</td>\n",
       "      <td>85</td>\n",
       "      <td>72</td>\n",
       "      <td>81.3</td>\n",
       "    </tr>\n",
       "    <tr>\n",
       "      <th>8</th>\n",
       "      <td>Roy</td>\n",
       "      <td>75</td>\n",
       "      <td>70</td>\n",
       "      <td>90</td>\n",
       "      <td>79.5</td>\n",
       "    </tr>\n",
       "    <tr>\n",
       "      <th>9</th>\n",
       "      <td>Phoebe</td>\n",
       "      <td>70</td>\n",
       "      <td>60</td>\n",
       "      <td>80</td>\n",
       "      <td>71.0</td>\n",
       "    </tr>\n",
       "  </tbody>\n",
       "</table>\n",
       "</div>"
      ],
      "text/plain": [
       "        Name  Assignment 1  Assignment 2  Final Exam  total\n",
       "0      Peter            60            60          60   60.0\n",
       "1        Joe            75            80          50   66.5\n",
       "2       Kris            95           100          95   96.5\n",
       "3        Amy            90            85          95   90.5\n",
       "4     Alfred            35            70          85   65.5\n",
       "5        Jan            65            80          64   69.1\n",
       "6       Bill            80            60          70   70.0\n",
       "7  Christine            90            85          72   81.3\n",
       "8        Roy            75            70          90   79.5\n",
       "9     Phoebe            70            60          80   71.0"
      ]
     },
     "execution_count": 24,
     "metadata": {},
     "output_type": "execute_result"
    }
   ],
   "source": [
    "marks"
   ]
  },
  {
   "cell_type": "markdown",
   "id": "advanced-panama",
   "metadata": {},
   "source": [
    "Similiarly, you can define a function `grade()` that we used in tutorial 1 for returning the student's grade.\n",
    "\n"
   ]
  },
  {
   "cell_type": "code",
   "execution_count": 25,
   "id": "municipal-section",
   "metadata": {},
   "outputs": [],
   "source": [
    "def grade(marks):\n",
    "\n",
    "    grade = 'F'\n",
    "\n",
    "    if marks > 0 and marks < 40:\n",
    "        grade = 'F'\n",
    "    elif marks >=40 and marks < 60:\n",
    "        grade = 'D'\n",
    "    elif marks >=60 and marks < 70:\n",
    "        grade = 'C'\n",
    "    elif marks >=70 and marks < 80:\n",
    "        grade = 'B'\n",
    "    elif marks >=80:\n",
    "        grade = 'A'\n",
    "\n",
    "    return grade"
   ]
  },
  {
   "cell_type": "code",
   "execution_count": 26,
   "id": "typical-scanning",
   "metadata": {},
   "outputs": [],
   "source": [
    "# exercise\n",
    "# write the line to returning the grade below\n",
    "\n",
    "# marks['grade'] = ...\n",
    "\n",
    "\n",
    "marks['grade'] = marks.apply(lambda row: grade(row['total']), axis = 1)\n",
    " "
   ]
  }
 ],
 "metadata": {
  "kernelspec": {
   "display_name": "fintechlab",
   "language": "python",
   "name": "fintechlab"
  },
  "language_info": {
   "codemirror_mode": {
    "name": "ipython",
    "version": 3
   },
   "file_extension": ".py",
   "mimetype": "text/x-python",
   "name": "python",
   "nbconvert_exporter": "python",
   "pygments_lexer": "ipython3",
   "version": "3.8.5"
  }
 },
 "nbformat": 4,
 "nbformat_minor": 5
}
