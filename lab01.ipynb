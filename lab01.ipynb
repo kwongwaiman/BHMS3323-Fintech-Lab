{
 "cells": [
  {
   "cell_type": "code",
   "execution_count": 3,
   "id": "utility-illustration",
   "metadata": {},
   "outputs": [],
   "source": [
    "import pandas as pd"
   ]
  },
  {
   "cell_type": "code",
   "execution_count": 5,
   "id": "finnish-british",
   "metadata": {},
   "outputs": [],
   "source": [
    "a =3\n",
    "a=a+3"
   ]
  },
  {
   "cell_type": "code",
   "execution_count": 6,
   "id": "fifty-salad",
   "metadata": {},
   "outputs": [
    {
     "name": "stdout",
     "output_type": "stream",
     "text": [
      "6\n"
     ]
    }
   ],
   "source": [
    "print(a)"
   ]
  },
  {
   "cell_type": "code",
   "execution_count": null,
   "id": "configured-economics",
   "metadata": {},
   "outputs": [],
   "source": []
  }
 ],
 "metadata": {
  "kernelspec": {
   "display_name": "fintechlab",
   "language": "python",
   "name": "fintechlab"
  },
  "language_info": {
   "codemirror_mode": {
    "name": "ipython",
    "version": 3
   },
   "file_extension": ".py",
   "mimetype": "text/x-python",
   "name": "python",
   "nbconvert_exporter": "python",
   "pygments_lexer": "ipython3",
   "version": "3.8.5"
  }
 },
 "nbformat": 4,
 "nbformat_minor": 5
}
