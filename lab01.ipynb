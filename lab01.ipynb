{
 "cells": [
  {
   "cell_type": "markdown",
   "metadata": {
    "collapsed": true,
    "pycharm": {
     "name": "#%% md\n"
    }
   },
   "source": [
    "## BHMS3323 Practices of FinTech"
   ]
  },
  {
   "cell_type": "markdown",
   "metadata": {},
   "source": [
    "## Lab 1 - Python basic\n"
   ]
  },
  {
   "cell_type": "markdown",
   "metadata": {
    "pycharm": {
     "name": "#%% md\n"
    }
   },
   "source": [
    "In Python, you can assign value to a *variable*.\n",
    "You can think a *variable* in Python as a container, which you can store any values in it.\n",
    "Unlike other programming languages, Python does not require you to define the variable before using it.\n",
    "\n",
    "The following example creates 2 variables `a` and `b` that store values of 3 and 4 and then returns their sum."
   ]
  },
  {
   "cell_type": "code",
   "execution_count": 1,
   "metadata": {
    "pycharm": {
     "name": "#%%\n"
    }
   },
   "outputs": [
    {
     "name": "stdout",
     "output_type": "stream",
     "text": [
      "7\n"
     ]
    }
   ],
   "source": [
    "a = 3\n",
    "b = 4\n",
    "\n",
    "print(a + b)"
   ]
  },
  {
   "cell_type": "markdown",
   "metadata": {},
   "source": [
    "You can also define another variable `c` to store the sum of the two variables."
   ]
  },
  {
   "cell_type": "code",
   "execution_count": 2,
   "metadata": {},
   "outputs": [],
   "source": [
    "c = a + b"
   ]
  },
  {
   "cell_type": "code",
   "execution_count": 3,
   "metadata": {},
   "outputs": [
    {
     "name": "stdout",
     "output_type": "stream",
     "text": [
      "7\n"
     ]
    }
   ],
   "source": [
    "print(c)"
   ]
  },
  {
   "cell_type": "markdown",
   "metadata": {},
   "source": [
    "### 1.1 Indentation\n",
    "\n",
    "Indentation and Spacing are important to Python. Python use uses indentation to indicate a block of code.\n",
    "You should NOT randomly adding leading spaces in your code.\n",
    "\n",
    "The following codes below are ok:\n",
    "\n",
    "<code>\n",
    "a = 3\n",
    "b = 4\n",
    "c = a + b\n",
    "</code>\n",
    "\n",
    "The codes below will return an error:\n",
    "\n",
    "<code>\n",
    "a = 3\n",
    "b = 4\n",
    "   c = a + b\n",
    "</code>\n",
    "\n",
    "<span style='color:red'>Play around the code below:</span>"
   ]
  },
  {
   "cell_type": "code",
   "execution_count": 4,
   "metadata": {},
   "outputs": [],
   "source": [
    "# try adding leading space to see the effect\n",
    "a = 3\n",
    "b = 4\n",
    "c = a + b"
   ]
  },
  {
   "cell_type": "markdown",
   "metadata": {},
   "source": [
    "### 1.2 Operators\n",
    "\n",
    "Here're some common mathematical operators:\n",
    "\n",
    "| Name | Operator | Example |\n",
    "| - | - | - | \n",
    "| Addition | + | a + b |\n",
    "| Subtraction | - | a - b |\n",
    "| Multiplication | * | a * b |\n",
    "| Division | / | a / b |\n",
    "| Modulus | % | a % b |\n",
    "| Exponentation | ** | a**b |"
   ]
  },
  {
   "cell_type": "markdown",
   "metadata": {},
   "source": [
    "**Exercise 1:**\n",
    "1. Define a variable `x` and assign a value of 10 to it.\n",
    "2. Define a variable `y` and assign a value of 8 to it.\n",
    "3. Substract the value from `x` to `y` and store the result in `z`.\n",
    "4. print the value of `z`.\n",
    "\n",
    "<span style='color:red'>Write your code in the below cell</span>"
   ]
  },
  {
   "cell_type": "code",
   "execution_count": 5,
   "metadata": {},
   "outputs": [],
   "source": [
    "# your code start here #\n",
    " "
   ]
  },
  {
   "cell_type": "markdown",
   "metadata": {},
   "source": [
    "**Exercise 1 (Output):**\n",
    "\n",
    "You code should return a value of 2."
   ]
  },
  {
   "cell_type": "markdown",
   "metadata": {},
   "source": [
    "### 1.3 Assignment Operators\n",
    "\n",
    "In python, the operator `=` has a special meaning.\n",
    "Consider the following code:\n",
    "` c = a + b `\n",
    "\n",
    "Python will first compute the expression in the right hand side of the operator `=` ,\n",
    "followed by assigning the value to the variable `c`.\n",
    "\n",
    "For example,\n",
    "The code ` a = a + b` may make no sense to you. But for python, it makes much sense.\n",
    "\n",
    "Python will calcuate the value of `a + b`, then assign it back the the variable `a`."
   ]
  },
  {
   "cell_type": "code",
   "execution_count": 6,
   "metadata": {},
   "outputs": [
    {
     "name": "stdout",
     "output_type": "stream",
     "text": [
      "7\n"
     ]
    }
   ],
   "source": [
    "# example:\n",
    "a = 3\n",
    "b = 4\n",
    "a = a + b\n",
    "print(a)"
   ]
  },
  {
   "cell_type": "markdown",
   "metadata": {},
   "source": [
    "Python also support some short form of assignment operators, such as:\n",
    "\n",
    "| Operator | Example | Equivalent to |\n",
    "| - | - | -|\n",
    "| += | a += b | a = a + b |\n",
    "| -= | a -= b | a = a - b |\n",
    "| *= | a *= b | a = a * b |\n",
    "| /= | a /= b | a = a / b |\n",
    "| %= | a %= b | a = a % b |\n",
    "| **= | a **= b | a = a ** b |\n"
   ]
  },
  {
   "cell_type": "code",
   "execution_count": 7,
   "metadata": {},
   "outputs": [
    {
     "name": "stdout",
     "output_type": "stream",
     "text": [
      "7\n"
     ]
    }
   ],
   "source": [
    "# example:\n",
    "a = 3\n",
    "b = 4\n",
    "a += b\n",
    "print(a)"
   ]
  },
  {
   "cell_type": "markdown",
   "metadata": {},
   "source": [
    "### 1.4 Python Comment\n",
    "\n",
    "In Python, comment is used to explain your code and your logic.\n",
    "\n",
    "Comments starts with `#`, and Python will not execute the code mark beyond the `#` operator in the same line\n",
    "\n",
    "Even though the comment code will not be executed, you should always provide comment in your code to explain your logic to others. To make your program more readable.\n",
    "\n"
   ]
  },
  {
   "cell_type": "code",
   "execution_count": 8,
   "metadata": {},
   "outputs": [
    {
     "name": "stdout",
     "output_type": "stream",
     "text": [
      "11\n"
     ]
    }
   ],
   "source": [
    "# this is a comment, and python will not execute it\n",
    "a = a + b #this is also a comment, python will execute the code a = a + b but not the code beyond the comment operator.\n",
    "print(a)"
   ]
  },
  {
   "cell_type": "markdown",
   "metadata": {},
   "source": [
    "### 1.5 Python Data Types\n",
    "\n",
    "In Python, we can declare different variables to store values, while the values can be in different types.\n",
    "\n",
    "The most common data types in Python are:\n",
    "1. numeric data type: <br> \n",
    "a. int <br>\n",
    "b. float\n",
    "2. Strings\n",
    "3. Sequence Types <br>\n",
    "a. list <br>\n",
    "b. tuple <br>\n",
    "c. range\n",
    "\n",
    "We can test the data type of a variable by using the bulit-in function `type()`. "
   ]
  },
  {
   "cell_type": "code",
   "execution_count": 9,
   "metadata": {},
   "outputs": [
    {
     "data": {
      "text/plain": [
       "int"
      ]
     },
     "execution_count": 9,
     "metadata": {},
     "output_type": "execute_result"
    }
   ],
   "source": [
    "a = 3 # a is an integer\n",
    "type(a)"
   ]
  },
  {
   "cell_type": "code",
   "execution_count": 10,
   "metadata": {},
   "outputs": [
    {
     "data": {
      "text/plain": [
       "float"
      ]
     },
     "execution_count": 10,
     "metadata": {},
     "output_type": "execute_result"
    }
   ],
   "source": [
    "a = 3.1 # a is a float\n",
    "type(a)"
   ]
  },
  {
   "cell_type": "code",
   "execution_count": 11,
   "metadata": {},
   "outputs": [
    {
     "data": {
      "text/plain": [
       "str"
      ]
     },
     "execution_count": 11,
     "metadata": {},
     "output_type": "execute_result"
    }
   ],
   "source": [
    "a = \"Hello World\" # a is a string\n",
    "type(a)"
   ]
  },
  {
   "cell_type": "code",
   "execution_count": 12,
   "metadata": {},
   "outputs": [
    {
     "data": {
      "text/plain": [
       "list"
      ]
     },
     "execution_count": 12,
     "metadata": {},
     "output_type": "execute_result"
    }
   ],
   "source": [
    "a = [5,10,15] # a is a list which contains 3 values in it\n",
    "type(a)\n",
    "\n",
    "# remarks: you can only put variables with the same data type in a list"
   ]
  },
  {
   "cell_type": "code",
   "execution_count": 13,
   "metadata": {},
   "outputs": [
    {
     "name": "stdout",
     "output_type": "stream",
     "text": [
      "5\n",
      "10\n",
      "15\n"
     ]
    }
   ],
   "source": [
    "# you can access the individual item inside a list by specifying an index, the index starts at 0\n",
    "print(a[0])\n",
    "print(a[1])\n",
    "print(a[2])"
   ]
  },
  {
   "cell_type": "code",
   "execution_count": 14,
   "metadata": {},
   "outputs": [
    {
     "name": "stdout",
     "output_type": "stream",
     "text": [
      "[5, 100, 15]\n"
     ]
    }
   ],
   "source": [
    "# you can change the value of a list\n",
    "a[1] = 100\n",
    "print(a)"
   ]
  },
  {
   "cell_type": "code",
   "execution_count": 15,
   "metadata": {},
   "outputs": [
    {
     "data": {
      "text/plain": [
       "tuple"
      ]
     },
     "execution_count": 15,
     "metadata": {},
     "output_type": "execute_result"
    }
   ],
   "source": [
    "a = (5,6,7) # a is a tuple\n",
    "type(a)"
   ]
  },
  {
   "cell_type": "code",
   "execution_count": 16,
   "metadata": {},
   "outputs": [],
   "source": [
    "# tuple is similiar to list, but it is immutable. That is, you can't change the value of a tuple\n",
    "\n",
    "#a[1] = 100  #try run the code with the comment removed."
   ]
  },
  {
   "cell_type": "code",
   "execution_count": 17,
   "metadata": {},
   "outputs": [
    {
     "data": {
      "text/plain": [
       "range"
      ]
     },
     "execution_count": 17,
     "metadata": {},
     "output_type": "execute_result"
    }
   ],
   "source": [
    "a = range(1,10) # we will talk more about range in the coming tutorial about looping structure\n",
    "type(a)"
   ]
  },
  {
   "cell_type": "markdown",
   "metadata": {},
   "source": [
    "\n",
    "You can not perform operations with 2 or more variables with different data type.\n",
    "\n",
    "For instance, you cannot add an integer with a string.\n",
    "\n",
    "The following code will return an error:\n",
    "\n",
    "<code>\n",
    "a = 3\n",
    "b = \"Hello\"\n",
    "c = a + b\n",
    "</code>\n"
   ]
  },
  {
   "cell_type": "code",
   "execution_count": 18,
   "metadata": {},
   "outputs": [],
   "source": [
    "# Try the above code here, it will return an error\n",
    "\n"
   ]
  },
  {
   "cell_type": "markdown",
   "metadata": {},
   "source": [
    "### 1.6 Data Type Conversion\n",
    "\n",
    "You can cast a variable into another data type by using the casting function. Here're the 3 most common casting function used in Python.\n",
    "\n",
    "<code>\n",
    "    int()\n",
    "    float()\n",
    "    str()\n",
    "</code>\n",
    "    "
   ]
  },
  {
   "cell_type": "code",
   "execution_count": 19,
   "metadata": {},
   "outputs": [
    {
     "name": "stdout",
     "output_type": "stream",
     "text": [
      "[1, '1.8', 1.8]\n"
     ]
    }
   ],
   "source": [
    "x = 1.8      # x is a float number\n",
    "y = \"1.8\"    # y is a string\n",
    "\n",
    "a = int(x) # x will become integer, it will round down to 1\n",
    "b = str(x) # x will become a string, the string is stored in variable b3\n",
    "c = float(y) # y will become a float number.\n",
    "\n",
    "print([a,b,c]) # I form a list for return the two new data in one line\n"
   ]
  },
  {
   "cell_type": "markdown",
   "metadata": {},
   "source": [
    "That's enough for the 1st lesson. See you next week and have a good day!\n",
    "\n",
    "### End of Lab 1 "
   ]
  }
 ],
 "metadata": {
  "kernelspec": {
   "display_name": "fintechlab",
   "language": "python",
   "name": "fintechlab"
  },
  "language_info": {
   "codemirror_mode": {
    "name": "ipython",
    "version": 3
   },
   "file_extension": ".py",
   "mimetype": "text/x-python",
   "name": "python",
   "nbconvert_exporter": "python",
   "pygments_lexer": "ipython3",
   "version": "3.8.5"
  }
 },
 "nbformat": 4,
 "nbformat_minor": 1
}
