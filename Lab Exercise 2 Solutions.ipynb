{
 "cells": [
  {
   "cell_type": "markdown",
   "id": "heard-tennessee",
   "metadata": {},
   "source": [
    "# Lab Exercise 2 - Solutions"
   ]
  },
  {
   "cell_type": "markdown",
   "id": "brazilian-former",
   "metadata": {},
   "source": [
    "### You need to print the notebook as PDF and submit it on moodle\n",
    "#### The deadline of submission is 23:59, 7 March 2021"
   ]
  },
  {
   "cell_type": "markdown",
   "id": "dying-omega",
   "metadata": {},
   "source": [
    "## Question 1\n",
    "\n",
    "Write a function to return a Python list with all the even number below the value of `k`.\n",
    "<br/>\n",
    "For example, if `k = 16`, your function should return a list of `[2,4,6,8,10,12,14]`"
   ]
  },
  {
   "cell_type": "markdown",
   "id": "hairy-regression",
   "metadata": {},
   "source": [
    "Name your function as `even_list()` that takes one argument named `k`."
   ]
  },
  {
   "cell_type": "code",
   "execution_count": 1,
   "id": "distant-district",
   "metadata": {},
   "outputs": [
    {
     "name": "stdout",
     "output_type": "stream",
     "text": [
      "[4, 6]\n"
     ]
    }
   ],
   "source": [
    "# hints:\n",
    "# you can create an empty list and append items on it by the following code:\n",
    "\n",
    "a = []\n",
    "a.append(4)\n",
    "a.append(6)\n",
    "print(a)"
   ]
  },
  {
   "cell_type": "code",
   "execution_count": 2,
   "id": "working-possession",
   "metadata": {},
   "outputs": [],
   "source": [
    "# Question 1\n",
    "\n",
    "# write your code below\n",
    "def even_list(k):\n",
    "    output = []\n",
    "    for i in range(1,k):\n",
    "        if i%2 == 0:\n",
    "            output.append(i)\n",
    "    return output\n",
    "\n"
   ]
  },
  {
   "cell_type": "code",
   "execution_count": 3,
   "id": "confused-injury",
   "metadata": {},
   "outputs": [
    {
     "data": {
      "text/plain": [
       "[2, 4, 6, 8, 10, 12, 14]"
      ]
     },
     "execution_count": 3,
     "metadata": {},
     "output_type": "execute_result"
    }
   ],
   "source": [
    "# test your function here\n",
    "even_list(16)"
   ]
  },
  {
   "cell_type": "markdown",
   "id": "bulgarian-capture",
   "metadata": {},
   "source": [
    "## Question 2\n",
    "\n",
    "**Write a function that converts the hexdecimal string to decminal value. You can NOT use any Python library/module to help you do it. You should name your function as `hex`, and it takes one argument as the input.**\n",
    "\n",
    "For example, if the input is \"F23A\", the decminal value is 62010 and the procedure in the conversion should be:\n",
    "\n",
    "\n",
    "![hex](images/lab_exercise02_hex.png)\n",
    "\n",
    "*Hints: you can use `int('A', 16)` to convert a hex string value to dec integer. Also, you can use funtion `len(input)` to find out the length of the string. You can extract a particular character in a string by specifying an index.*\n"
   ]
  },
  {
   "cell_type": "code",
   "execution_count": 4,
   "id": "packed-retention",
   "metadata": {},
   "outputs": [
    {
     "name": "stdout",
     "output_type": "stream",
     "text": [
      "4\n",
      "A\n",
      "10\n"
     ]
    }
   ],
   "source": [
    "# Below codes are hints\n",
    "# exmaple\n",
    "\n",
    "a = \"F23A\"\n",
    "print(len(a))\n",
    "print(a[3])\n",
    "print(int(a[3],16))\n"
   ]
  },
  {
   "cell_type": "code",
   "execution_count": 5,
   "id": "insured-fetish",
   "metadata": {},
   "outputs": [],
   "source": [
    "# Question 2\n",
    "\n",
    "input = \"F23A\"\n",
    "\n",
    "# Start the code below\n",
    "\n",
    "def hex(input):\n",
    "    length = len(input)\n",
    "    sum = 0\n",
    "\n",
    "    for i in range(length):\n",
    "        power = length - i - 1\n",
    "        sum += int(input[i], 16) * (16**power)\n",
    "    \n",
    "    return sum\n",
    "    \n"
   ]
  },
  {
   "cell_type": "code",
   "execution_count": 6,
   "id": "common-holiday",
   "metadata": {},
   "outputs": [
    {
     "data": {
      "text/plain": [
       "62010"
      ]
     },
     "execution_count": 6,
     "metadata": {},
     "output_type": "execute_result"
    }
   ],
   "source": [
    "input = \"F23A\"\n",
    "hex(input)"
   ]
  },
  {
   "cell_type": "markdown",
   "id": "sunrise-gambling",
   "metadata": {},
   "source": [
    "## Question 3\n",
    "\n",
    "**You want to develop a secret communcation method with your friend. One day, you read a book about a simple substitution cipher and you want to implement it by using Python.**\n",
    "\n",
    "The logic of simple substitution is easy. Your friend and you came up the following naive substiution algorithm. \n",
    "\n",
    "\n",
    "![cipher](images/lab_exercise02_cipher.png)\n",
    "\n",
    "That is, you swap characters \"a\" with \"c\", \"d\" with \"q\", \"i\" with \"m\", and \"t\" with \"y\". Other characters leave unchanged.\n",
    "\n",
    "Based on your algorithm, a plaintext \"raymond\" will be encrypted as \"rctionq\".\n",
    "\n",
    "\n",
    "**Implement the encryption algorithm and named your function as `encrpt`. Take one argument as the input and one argument contains the key pairs. You only require to handle lowercase character.**\n",
    "\n",
    "\n",
    "A two-dimension array is used to represent the key-value pairs.\n",
    "\n",
    "`keys = [[\"a\", \"c\"], [\"c\", \"a\"], [\"d\", \"q\"], [\"i\", \"m\"], [\"m\", \"i\"], [\"q\", \"d\"], [\"t\", \"y\"], [\"y\", \"t\"]]`\n",
    "\n",
    "You can access the first key pair by `keys[0]`"
   ]
  },
  {
   "cell_type": "code",
   "execution_count": 7,
   "id": "bulgarian-movie",
   "metadata": {},
   "outputs": [
    {
     "data": {
      "text/plain": [
       "['a', 'c']"
      ]
     },
     "execution_count": 7,
     "metadata": {},
     "output_type": "execute_result"
    }
   ],
   "source": [
    "keys = [[\"a\", \"c\"], [\"c\", \"a\"], [\"d\", \"q\"], [\"i\", \"m\"], [\"m\", \"i\"], [\"q\", \"d\"], [\"t\", \"y\"], [\"y\", \"t\"]]\n",
    "\n",
    "keys[0]"
   ]
  },
  {
   "cell_type": "markdown",
   "id": "fitted-master",
   "metadata": {},
   "source": [
    "The first key can be obtained by `keys[0][0]`"
   ]
  },
  {
   "cell_type": "code",
   "execution_count": 8,
   "id": "intimate-jacksonville",
   "metadata": {},
   "outputs": [
    {
     "data": {
      "text/plain": [
       "'a'"
      ]
     },
     "execution_count": 8,
     "metadata": {},
     "output_type": "execute_result"
    }
   ],
   "source": [
    "keys[0][0]"
   ]
  },
  {
   "cell_type": "markdown",
   "id": "photographic-observer",
   "metadata": {},
   "source": [
    "The first value of key \"a\" can be obtained by `keys[0][1]`"
   ]
  },
  {
   "cell_type": "code",
   "execution_count": 9,
   "id": "variable-strand",
   "metadata": {},
   "outputs": [
    {
     "data": {
      "text/plain": [
       "'c'"
      ]
     },
     "execution_count": 9,
     "metadata": {},
     "output_type": "execute_result"
    }
   ],
   "source": [
    "keys[0][1]"
   ]
  },
  {
   "cell_type": "markdown",
   "id": "controlled-census",
   "metadata": {},
   "source": [
    "The last pair of key can be obtained by the following example code:"
   ]
  },
  {
   "cell_type": "code",
   "execution_count": 10,
   "id": "stretch-internet",
   "metadata": {},
   "outputs": [
    {
     "name": "stdout",
     "output_type": "stream",
     "text": [
      "['y', 't']\n",
      "['y', 't']\n",
      "y\n",
      "t\n"
     ]
    }
   ],
   "source": [
    "last = len(keys)   # last = 8\n",
    "print(keys[(last-1)])     # the first index is 0, the last index is 7, and it will give you a list of [\"y\", \"t\"]\n",
    "\n",
    "# assign the last keypair to a variable named temp\n",
    "temp = keys[(last-1)]\n",
    "print(temp)     # it will give you the same ouput as above\n",
    "\n",
    "print(temp[0])  # \"y\"\n",
    "print(temp[1])  # \"t\"\n"
   ]
  },
  {
   "cell_type": "markdown",
   "id": "final-jacob",
   "metadata": {},
   "source": [
    "*You can test your function by checking the following input-output pairs.*\n",
    "<br/>\n",
    "Input: \"raymond\"\n",
    "<br/>\n",
    "Ouput: \"rctionq\"\n",
    "\n",
    "<br/>\n",
    "Input: \"peter is a good guy\"\n",
    "<br/>\n",
    "Output: \"peyer ms c gooq gut\"\n",
    "\n",
    "**if you really can't use a flexible way to implement the code, you can forget about the `keys` variable and use `if-else` statements to complete it**"
   ]
  },
  {
   "cell_type": "code",
   "execution_count": 11,
   "id": "offshore-trustee",
   "metadata": {},
   "outputs": [],
   "source": [
    "# Question 3\n",
    "\n",
    "\n",
    "keys = [[\"a\", \"c\"], [\"c\", \"a\"], [\"d\", \"q\"], [\"i\", \"m\"], [\"m\", \"i\"], [\"q\", \"d\"], [\"t\", \"y\"], [\"y\", \"t\"]]\n",
    "\n",
    "input = \"raymond\"\n",
    "\n",
    "def encrypt(input, keys):\n",
    "    output = \"\"\n",
    "\n",
    "    # Write your code below:\n",
    "    for i in range(len(input)):\n",
    "        changed = False              # reset the boolean variable as no change for each round\n",
    "        for key in keys:\n",
    "            if input[i] == key[0]:\n",
    "                output+= key[1]\n",
    "                changed = True      # if key found, mark it changed \n",
    "        if not changed:                 # append the original character if no change\n",
    "            output += input[i]\n",
    "            \n",
    "    return output\n",
    "\n"
   ]
  },
  {
   "cell_type": "code",
   "execution_count": 12,
   "id": "ignored-investing",
   "metadata": {},
   "outputs": [
    {
     "data": {
      "text/plain": [
       "'rctionq'"
      ]
     },
     "execution_count": 12,
     "metadata": {},
     "output_type": "execute_result"
    }
   ],
   "source": [
    "# Test your function in question 2\n",
    "encrypt(\"raymond\", keys)\n"
   ]
  },
  {
   "cell_type": "code",
   "execution_count": 13,
   "id": "twenty-japan",
   "metadata": {},
   "outputs": [],
   "source": [
    "# As a bonus, I herein give you a decryption method\n",
    "# The decrpytion method can be impletmented by simply change a line of the code\n",
    "\n",
    "def decrypt(input, keys):\n",
    "    output = \"\"\n",
    "\n",
    "    # Write your code below:\n",
    "    for i in range(len(input)):\n",
    "        changed = False              \n",
    "        for key in keys:\n",
    "            if input[i] == key[1]:   # I only changed 0 to 1 in the encryption method\n",
    "                output+= key[0]      # change 1 to 0\n",
    "                changed = True     \n",
    "        if not changed:                \n",
    "            output += input[i]\n",
    "            \n",
    "    return output"
   ]
  },
  {
   "cell_type": "code",
   "execution_count": 14,
   "id": "double-thanks",
   "metadata": {},
   "outputs": [
    {
     "data": {
      "text/plain": [
       "'raymond'"
      ]
     },
     "execution_count": 14,
     "metadata": {},
     "output_type": "execute_result"
    }
   ],
   "source": [
    "decrypt(\"rctionq\", keys)"
   ]
  },
  {
   "cell_type": "markdown",
   "id": "silver-accessory",
   "metadata": {},
   "source": [
    "## Question 4\n",
    "\n",
    "You realized that your encryption method is too naive, now you want to change your and make it more sophisticated. You came up an idea that to move each plaintext character *k* steps forward to become another character. For example, if *k = 4*, 4 steps forward of the character 'a' is 'e', and 4 steps forward of the character 'b' is 'f'.\n",
    "\n",
    "![cipher2](images/lab_exercise02_cipher2.png)\n"
   ]
  },
  {
   "cell_type": "code",
   "execution_count": 15,
   "id": "moved-offering",
   "metadata": {},
   "outputs": [
    {
     "data": {
      "text/plain": [
       "10"
      ]
     },
     "execution_count": 15,
     "metadata": {},
     "output_type": "execute_result"
    }
   ],
   "source": [
    "# Hints\n",
    "# you can convert \"a\" to the number 1 by viewing it as a 36-decimal system \n",
    "# (we borrow the idea of hexdecimal system). i.e. a=10, b=11, ... z=35\n",
    "\n",
    "int(\"a\", 36)"
   ]
  },
  {
   "cell_type": "code",
   "execution_count": 16,
   "id": "german-shoot",
   "metadata": {
    "scrolled": true
   },
   "outputs": [
    {
     "data": {
      "text/plain": [
       "35"
      ]
     },
     "execution_count": 16,
     "metadata": {},
     "output_type": "execute_result"
    }
   ],
   "source": [
    "# test for \"z\"\n",
    "int(\"z\", 36)"
   ]
  },
  {
   "cell_type": "markdown",
   "id": "combined-tunnel",
   "metadata": {},
   "source": [
    "Computers can only understand numbers, so an ASCII code is the numerical representation of a character such as 'a' or '@' or an action of some sort.\n",
    "\n",
    "Given the following ASCII table:\n",
    "\n",
    "|Dec | Chr|Dec | Chr|Dec | Chr|\n",
    "| - | - | - | - | - | - |\n",
    "| 97 | a | 106 | j | 115 | s |\n",
    "| 98 | b | 107 | k |  116 | t |\n",
    "| 99 | c | 108 | l | 117 | u |\n",
    "| 100 | d | 109 | m | 118 | v |\n",
    "| 101 | e | 110 | n | 119 | w |\n",
    "| 102 | f | 111 | o | 120 | x |\n",
    "| 103 | g | 112 | p | 121 | y |\n",
    "| 104 | h | 113 | q | 122 | z |\n",
    "| 105 | i | 114 | r | - | - |\n",
    "\n",
    "You can find out more about ASCII code here:\n",
    "[ASCII](http://www.asciitable.com/)"
   ]
  },
  {
   "cell_type": "code",
   "execution_count": 17,
   "id": "every-partner",
   "metadata": {},
   "outputs": [
    {
     "data": {
      "text/plain": [
       "'a'"
      ]
     },
     "execution_count": 17,
     "metadata": {},
     "output_type": "execute_result"
    }
   ],
   "source": [
    "chr(97)"
   ]
  },
  {
   "cell_type": "code",
   "execution_count": 18,
   "id": "conventional-mongolia",
   "metadata": {},
   "outputs": [
    {
     "data": {
      "text/plain": [
       "'a'"
      ]
     },
     "execution_count": 18,
     "metadata": {},
     "output_type": "execute_result"
    }
   ],
   "source": [
    "# you can do a conversion from number to character by the following sample code\n",
    "# In your 36-decimal system, 10 represent an \"a\". You know that 97 represent \"a\" in ASCII system, \n",
    "# so you can simply add 87 (97-10) to get your character in your 36-decimal system.\n",
    "\n",
    "value = int(\"a\", 36)  ## it gives your value of 10\n",
    "value = value - 10    ## it is better to shift your character in a range of 1-25, instead of 10-35\n",
    "chr(value+97)   ## it should give you back character \"a\", We only use the ASCII table in the range of 97 to 122."
   ]
  },
  {
   "cell_type": "markdown",
   "id": "gentle-flower",
   "metadata": {},
   "source": [
    "**Implement the encryption algorithm and named your function as `encrpt2`. Take one argument as the input and one argument contains the value *k*. You only require to handle lowercase character. You NO need to handle special character such as space bar.**"
   ]
  },
  {
   "cell_type": "code",
   "execution_count": 19,
   "id": "distinct-bunch",
   "metadata": {},
   "outputs": [],
   "source": [
    "# Question 4 \n",
    "\n",
    "# k = 4 is for testing, your program should work for any value of n\n",
    "\n",
    "k = 4\n",
    "\n",
    "def encrypt2(input, k):\n",
    "    output = \"\"\n",
    "    \n",
    "# write your program below:\n",
    "    for i in range(len(input)):\n",
    "        value = int(input[i],36) - 10  # get the character and convert it into number\n",
    "        shift_value = value + k   # move your charact k steps ahead\n",
    "        if shift_value > 25:       # character \"z\" has a value of 25, if value > 25, you must handle it in cyclic manner\n",
    "            shift_value = shift_value % 26  # get the remainder, it will give you the character\n",
    "            \n",
    "        encode_chr = chr(shift_value + 97)\n",
    "        output += encode_chr\n",
    "    \n",
    "    return output\n",
    "\n"
   ]
  },
  {
   "cell_type": "code",
   "execution_count": 20,
   "id": "fluid-cream",
   "metadata": {},
   "outputs": [
    {
     "data": {
      "text/plain": [
       "'bcdefghijklmnopqrstuvwxyza'"
      ]
     },
     "execution_count": 20,
     "metadata": {},
     "output_type": "execute_result"
    }
   ],
   "source": [
    "# test your function\n",
    "encrypt2(\"abcdefghijklmnopqrstuvwxyz\", 1)"
   ]
  },
  {
   "cell_type": "code",
   "execution_count": 21,
   "id": "satellite-release",
   "metadata": {},
   "outputs": [
    {
     "data": {
      "text/plain": [
       "'efghijklmnopqrstuvwxyzabcd'"
      ]
     },
     "execution_count": 21,
     "metadata": {},
     "output_type": "execute_result"
    }
   ],
   "source": [
    "# test your function\n",
    "encrypt2(\"abcdefghijklmnopqrstuvwxyz\", 4)"
   ]
  },
  {
   "cell_type": "code",
   "execution_count": 22,
   "id": "vietnamese-encyclopedia",
   "metadata": {},
   "outputs": [],
   "source": [
    "## Bonus\n",
    "## A decrpytion method for your reference\n",
    "## I only changed 2 lines of codes\n",
    "\n",
    "def decrypt2(input, k):\n",
    "    output = \"\"\n",
    "    \n",
    "# write your program below:\n",
    "    for i in range(len(input)):\n",
    "        value = int(input[i],36) - 10 \n",
    "        shift_value = value - k   \n",
    "        if shift_value < 1:       # check for value smaller than 1\n",
    "            shift_value = shift_value + 26  # move forward to become a positive integer\n",
    "            \n",
    "        encode_chr = chr(shift_value + 97)\n",
    "        output += encode_chr\n",
    "    \n",
    "    return output\n"
   ]
  },
  {
   "cell_type": "code",
   "execution_count": 23,
   "id": "minute-transformation",
   "metadata": {},
   "outputs": [
    {
     "data": {
      "text/plain": [
       "'z'"
      ]
     },
     "execution_count": 23,
     "metadata": {},
     "output_type": "execute_result"
    }
   ],
   "source": [
    "decrypt2(\"a\",1)"
   ]
  }
 ],
 "metadata": {
  "kernelspec": {
   "display_name": "fintechlab",
   "language": "python",
   "name": "fintechlab"
  },
  "language_info": {
   "codemirror_mode": {
    "name": "ipython",
    "version": 3
   },
   "file_extension": ".py",
   "mimetype": "text/x-python",
   "name": "python",
   "nbconvert_exporter": "python",
   "pygments_lexer": "ipython3",
   "version": "3.8.5"
  }
 },
 "nbformat": 4,
 "nbformat_minor": 5
}
