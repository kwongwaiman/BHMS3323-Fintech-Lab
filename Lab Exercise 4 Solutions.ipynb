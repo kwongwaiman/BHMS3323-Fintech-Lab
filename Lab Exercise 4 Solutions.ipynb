{
 "cells": [
  {
   "cell_type": "markdown",
   "id": "heard-tennessee",
   "metadata": {},
   "source": [
    "# Lab Exercise 4"
   ]
  },
  {
   "cell_type": "markdown",
   "id": "brazilian-former",
   "metadata": {},
   "source": [
    "### You need to print the notebook as PDF and submit it on moodle\n",
    "#### The deadline of submission is 23:59, 21 March 2021"
   ]
  },
  {
   "cell_type": "markdown",
   "id": "elect-mainland",
   "metadata": {},
   "source": [
    "## Case Background\n",
    "\n",
    "You created a class called `Circle` as below:\n"
   ]
  },
  {
   "cell_type": "markdown",
   "id": "coordinate-resistance",
   "metadata": {},
   "source": [
    "```\n",
    "class Circle:\n",
    "    def __init__(self, a, b, r):\n",
    "        self.a = a\n",
    "        self.b = b\n",
    "        self.r = r\n",
    "    \n",
    "    def __str__(self):\n",
    "        return \"Circle center is ({a}, {b}), and the radius is {r}.\".format(a=self.a, b=self.b, r=self.r)\n",
    "```"
   ]
  },
  {
   "cell_type": "markdown",
   "id": "floating-biotechnology",
   "metadata": {},
   "source": [
    "## Question 1\n",
    "\n",
    "Add a method call `area()` which return the area of the circle in the `Circle` class. \n"
   ]
  },
  {
   "cell_type": "code",
   "execution_count": 6,
   "id": "living-template",
   "metadata": {},
   "outputs": [],
   "source": [
    "# Question 1\n",
    "import math   # you can get the pi value by using math.pi\n",
    "\n",
    "# Write your code below:\n",
    "\n",
    "\n",
    "class Circle:\n",
    "    def __init__(self, a, b, r):\n",
    "        self.a = a\n",
    "        self.b = b\n",
    "        self.r = r\n",
    "    \n",
    "    def __str__(self):\n",
    "        return \"Circle center is ({a}, {b}), and the radius is {r}.\".format(a=self.a, b=self.b, r=self.r)\n",
    "    \n",
    "    def area(self):\n",
    "        return math.pi* (self.r**2)\n"
   ]
  },
  {
   "cell_type": "code",
   "execution_count": 7,
   "id": "african-plastic",
   "metadata": {},
   "outputs": [
    {
     "data": {
      "text/plain": [
       "113.09733552923255"
      ]
     },
     "execution_count": 7,
     "metadata": {},
     "output_type": "execute_result"
    }
   ],
   "source": [
    "# Checking your code for question 1\n",
    "\n",
    "circle_a = Circle(4,4,6)\n",
    "circle_a.area()"
   ]
  },
  {
   "cell_type": "markdown",
   "id": "conceptual-devon",
   "metadata": {},
   "source": [
    "## Question 2\n",
    "\n",
    "Override the comparison operators of `==`, `>`, `<`, `!=` of the `Circle` class.\n",
    "\n",
    "After implemented the functions, you should check your function with the following code.\n",
    "```\n",
    "circle_a = Circle(4,4,6)\n",
    "circle_b = Circle(2,2,7)\n",
    "\n",
    "print(circle_a == circle_b)\n",
    "print(circle_a > circle_b)\n",
    "print(circle_a < circle_b)\n",
    "print(circle_a != circle_b)\n",
    "\n",
    "```\n",
    "\n",
    "and the output should be False, False, True, True\n",
    "\n",
    "*Note: In this question, we define `==` as the two circles have the same size. They are not necessarily at the same coordinates.*\n"
   ]
  },
  {
   "cell_type": "code",
   "execution_count": 53,
   "id": "fluid-cream",
   "metadata": {},
   "outputs": [],
   "source": [
    "# Question 2\n",
    "\n",
    "# Write your code below:\n",
    "\n",
    "import math   # you can get the pi value by using math.pi\n",
    "\n",
    "class Circle:\n",
    "    def __init__(self, a, b, r):\n",
    "        self.a = a\n",
    "        self.b = b\n",
    "        self.r = r\n",
    "    \n",
    "    def __str__(self):\n",
    "        return \"Circle center is ({a}, {b}), and the radius is {r}.\".format(a=self.a, b=self.b, r=self.r)\n",
    "    \n",
    "    def area(self):\n",
    "        return math.pi* (self.r**2)\n",
    "    \n",
    "    def __eq__(self, other):\n",
    "        if self.area() == other.area():\n",
    "            return True\n",
    "        else:\n",
    "            return False\n",
    "    \n",
    "    def __ne__(self,other):\n",
    "        return not self.__eq__(other)\n",
    "    \n",
    "    def __gt__(self, other):\n",
    "        if self.area() > other.area():\n",
    "            return True\n",
    "        else:\n",
    "            return False\n",
    "    \n",
    "    def __lt__(self, other):\n",
    "        return not self.__gt__(other)\n",
    "    \n",
    "        "
   ]
  },
  {
   "cell_type": "code",
   "execution_count": 54,
   "id": "prospective-kazakhstan",
   "metadata": {},
   "outputs": [
    {
     "name": "stdout",
     "output_type": "stream",
     "text": [
      "False\n",
      "False\n",
      "True\n",
      "True\n"
     ]
    }
   ],
   "source": [
    "# Checking your code for question 2\n",
    "\n",
    "circle_a = Circle(4,4,6)\n",
    "circle_b = Circle(2,2,7)\n",
    "\n",
    "print(circle_a == circle_b)\n",
    "print(circle_a > circle_b)\n",
    "print(circle_a < circle_b)\n",
    "print(circle_a != circle_b)\n"
   ]
  },
  {
   "cell_type": "markdown",
   "id": "integral-parker",
   "metadata": {},
   "source": [
    "## Question 3\n",
    "\n",
    "Write a class function `is_overlap(other)` to check if two circles are overlapped each other.\n",
    "\n",
    "\n",
    "\n",
    "\n"
   ]
  },
  {
   "cell_type": "code",
   "execution_count": 55,
   "id": "negative-comfort",
   "metadata": {},
   "outputs": [],
   "source": [
    "# Question 3\n",
    "\n",
    "# Write your code below:\n",
    "\n",
    "import matplotlib.pyplot as plt\n",
    "\n",
    "import math   # you can get the pi value by using math.pi\n",
    "\n",
    "class Circle:\n",
    "    def __init__(self, a, b, r):\n",
    "        self.a = a\n",
    "        self.b = b\n",
    "        self.r = r\n",
    "    \n",
    "    def __str__(self):\n",
    "        return \"Circle center is ({a}, {b}), and the radius is {r}.\".format(a=self.a, b=self.b, r=self.r)\n",
    "    \n",
    "    def area(self):\n",
    "        return math.pi* (self.r**2)\n",
    "    \n",
    "    def __eq__(self, other):\n",
    "        if self.a == other.a and self.b == other.b and self.r == other.r:\n",
    "            return True\n",
    "        else:\n",
    "            return False\n",
    "    \n",
    "    def __ne__(self,other):\n",
    "        return not self.__eq__(other)\n",
    "    \n",
    "    def __gt__(self, other):\n",
    "        if self.area() > other.area():\n",
    "            return True\n",
    "        else:\n",
    "            return False\n",
    "    \n",
    "    def __lt__(self, other):\n",
    "        return not self.__gt__(other)\n",
    "    \n",
    "    def is_overlap(self, other):\n",
    "        # find the distance of the two centers\n",
    "        distance = ((self.a - other.a)**2 + (self.b - other.b)**2 ) **0.5\n",
    "        if distance < (self.r + other.r):\n",
    "            return True\n",
    "        else:\n",
    "            return False\n",
    "        \n"
   ]
  },
  {
   "cell_type": "code",
   "execution_count": 56,
   "id": "laughing-cosmetic",
   "metadata": {},
   "outputs": [
    {
     "data": {
      "text/plain": [
       "False"
      ]
     },
     "execution_count": 56,
     "metadata": {},
     "output_type": "execute_result"
    }
   ],
   "source": [
    "# Checking your code for question 3\n",
    "\n",
    "circle_a = Circle(4,4,1)\n",
    "circle_b = Circle(2,2,1)\n",
    "\n",
    "circle_a.is_overlap(circle_b)\n"
   ]
  },
  {
   "cell_type": "code",
   "execution_count": 57,
   "id": "after-sister",
   "metadata": {},
   "outputs": [
    {
     "data": {
      "text/plain": [
       "False"
      ]
     },
     "execution_count": 57,
     "metadata": {},
     "output_type": "execute_result"
    }
   ],
   "source": [
    "circle_a = Circle(4,4,2)\n",
    "circle_b = Circle(7,8,3)\n",
    "\n",
    "circle_a.is_overlap(circle_b)\n"
   ]
  },
  {
   "cell_type": "code",
   "execution_count": null,
   "id": "welcome-publisher",
   "metadata": {},
   "outputs": [],
   "source": []
  }
 ],
 "metadata": {
  "kernelspec": {
   "display_name": "fintechlab",
   "language": "python",
   "name": "fintechlab"
  },
  "language_info": {
   "codemirror_mode": {
    "name": "ipython",
    "version": 3
   },
   "file_extension": ".py",
   "mimetype": "text/x-python",
   "name": "python",
   "nbconvert_exporter": "python",
   "pygments_lexer": "ipython3",
   "version": "3.8.5"
  }
 },
 "nbformat": 4,
 "nbformat_minor": 5
}
