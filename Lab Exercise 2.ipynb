{
 "cells": [
  {
   "cell_type": "markdown",
   "id": "heard-tennessee",
   "metadata": {},
   "source": [
    "# Lab Exercise 2"
   ]
  },
  {
   "cell_type": "markdown",
   "id": "brazilian-former",
   "metadata": {},
   "source": [
    "### You need to print the notebook as PDF and submit it on moodle\n",
    "#### The deadline of submission is 23:59, 7 March 2021"
   ]
  },
  {
   "cell_type": "markdown",
   "id": "elect-mainland",
   "metadata": {},
   "source": [
    "## Question 1\n",
    "\n",
    "Write a function to return a Python list with all the even number below the value of `k`.\n",
    "<br/>\n",
    "For example, if `k = 16`, your function should return a list of `[2,4,6,8,10,12,14]`"
   ]
  },
  {
   "cell_type": "markdown",
   "id": "floating-biotechnology",
   "metadata": {},
   "source": [
    "Name your function as `even_list()` that takes one argument named `k`."
   ]
  },
  {
   "cell_type": "code",
   "execution_count": 1,
   "id": "living-template",
   "metadata": {},
   "outputs": [
    {
     "name": "stdout",
     "output_type": "stream",
     "text": [
      "[4, 6]\n"
     ]
    }
   ],
   "source": [
    "# hints:\n",
    "# you can create an empty list and append items on it by the following code:\n",
    "\n",
    "a = []\n",
    "a.append(4)\n",
    "a.append(6)\n",
    "print(a)"
   ]
  },
  {
   "cell_type": "code",
   "execution_count": 2,
   "id": "occasional-danger",
   "metadata": {},
   "outputs": [],
   "source": [
    "# Question 1\n",
    "\n",
    "# write your code below\n",
    "\n"
   ]
  },
  {
   "cell_type": "code",
   "execution_count": 3,
   "id": "wanted-advantage",
   "metadata": {},
   "outputs": [],
   "source": [
    "# test your function here\n",
    "# even_list(16)"
   ]
  },
  {
   "cell_type": "markdown",
   "id": "bulgarian-capture",
   "metadata": {},
   "source": [
    "## Question 2\n",
    "\n",
    "**Write a function that converts the hexdecimal string to decminal value. You can NOT use any Python library/module to help you do this. You should name your function as `hex`, and it takes one argument as the input.**\n",
    "\n",
    "For example, if the input is \"F23A\", the decminal value is 62010 and the procedure in the conversion should be:\n",
    "\n",
    "\n",
    "![hex](images/lab_exercise02_hex.png)\n",
    "\n",
    "*Hints: you can use `int('A', 16)` to convert a hex string value to dec integer. Also, you can use funtion `len(input)` to find out the length of the string. You can extract a particular character in a string by specifying an index.*\n"
   ]
  },
  {
   "cell_type": "code",
   "execution_count": 4,
   "id": "returning-ireland",
   "metadata": {},
   "outputs": [
    {
     "name": "stdout",
     "output_type": "stream",
     "text": [
      "4\n",
      "A\n",
      "10\n"
     ]
    }
   ],
   "source": [
    "# Below codes are hints\n",
    "# exmaple\n",
    "\n",
    "a = \"F23A\"\n",
    "print(len(a))\n",
    "print(a[3])\n",
    "print(int(a[3],16))\n"
   ]
  },
  {
   "cell_type": "code",
   "execution_count": 5,
   "id": "insured-fetish",
   "metadata": {},
   "outputs": [],
   "source": [
    "# Question 2\n",
    "\n",
    "input = \"F23A\"\n",
    "\n",
    "# Start the code below\n",
    "\n",
    "\n",
    "    \n"
   ]
  },
  {
   "cell_type": "code",
   "execution_count": 6,
   "id": "corporate-yugoslavia",
   "metadata": {},
   "outputs": [],
   "source": [
    "# test your code here\n",
    "# input = \"F23A\"\n",
    "# hex(input)"
   ]
  },
  {
   "cell_type": "markdown",
   "id": "sunrise-gambling",
   "metadata": {},
   "source": [
    "## Question 3\n",
    "\n",
    "**You want to develop a secret communcation method with your friend. One day, you read a book about a simple substitution cipher and you want to implement it by using Python.**\n",
    "\n",
    "The logic of simple substitution is easy. Your friend and you came up the following naive substiution algorithm. \n",
    "\n",
    "\n",
    "![cipher](images/lab_exercise02_cipher.png)\n",
    "\n",
    "That is, you swap characters \"a\" with \"c\", \"d\" with \"q\", \"i\" with \"m\", and \"t\" with \"y\" and leave other characters unchanged.\n",
    "\n",
    "Based on your algorithm, a plaintext \"raymond\" will be encrypted as \"rctionq\".\n",
    "\n",
    "\n",
    "**Implement the encryption algorithm and named your function as `encrpt`. Take one argument as the input and one argument contains the key pairs. You only require to handle lowercase character.**\n",
    "\n",
    "\n",
    "A two-dimension array is used to represent the key-value pairs.\n",
    "\n",
    "`keys = [[\"a\", \"c\"], [\"c\", \"a\"], [\"d\", \"q\"], [\"i\", \"m\"], [\"m\", \"i\"], [\"q\", \"d\"], [\"t\", \"y\"], [\"y\", \"t\"]]`\n",
    "\n",
    "You can access the first key pair by `keys[0]`"
   ]
  },
  {
   "cell_type": "code",
   "execution_count": 7,
   "id": "descending-mailing",
   "metadata": {},
   "outputs": [
    {
     "data": {
      "text/plain": [
       "['a', 'c']"
      ]
     },
     "execution_count": 7,
     "metadata": {},
     "output_type": "execute_result"
    }
   ],
   "source": [
    "keys = [[\"a\", \"c\"], [\"c\", \"a\"], [\"d\", \"q\"], [\"i\", \"m\"], [\"m\", \"i\"], [\"q\", \"d\"], [\"t\", \"y\"], [\"y\", \"t\"]]\n",
    "\n",
    "keys[0]"
   ]
  },
  {
   "cell_type": "markdown",
   "id": "protective-crazy",
   "metadata": {},
   "source": [
    "The first key can be obtained by `keys[0][0]`"
   ]
  },
  {
   "cell_type": "code",
   "execution_count": 8,
   "id": "collective-animal",
   "metadata": {},
   "outputs": [
    {
     "data": {
      "text/plain": [
       "'a'"
      ]
     },
     "execution_count": 8,
     "metadata": {},
     "output_type": "execute_result"
    }
   ],
   "source": [
    "keys[0][0]"
   ]
  },
  {
   "cell_type": "markdown",
   "id": "convinced-chase",
   "metadata": {},
   "source": [
    "The first value of key \"a\" can be obtained by `keys[0][1]`"
   ]
  },
  {
   "cell_type": "code",
   "execution_count": 9,
   "id": "social-motor",
   "metadata": {},
   "outputs": [
    {
     "data": {
      "text/plain": [
       "'c'"
      ]
     },
     "execution_count": 9,
     "metadata": {},
     "output_type": "execute_result"
    }
   ],
   "source": [
    "keys[0][1]"
   ]
  },
  {
   "cell_type": "markdown",
   "id": "corresponding-preparation",
   "metadata": {},
   "source": [
    "The last pair of key can be obtained by the following example code:"
   ]
  },
  {
   "cell_type": "code",
   "execution_count": 10,
   "id": "responsible-decline",
   "metadata": {},
   "outputs": [
    {
     "name": "stdout",
     "output_type": "stream",
     "text": [
      "['y', 't']\n",
      "['y', 't']\n",
      "y\n",
      "t\n"
     ]
    }
   ],
   "source": [
    "last = len(keys)   # last = 8\n",
    "print(keys[(last-1)])     # the first index is 0, the last index is 7, and it will give you a list of [\"y\", \"t\"]\n",
    "\n",
    "# assign the last keypair to a variable named temp\n",
    "temp = keys[(last-1)]\n",
    "print(temp)     # it gives you the same ouput as above\n",
    "\n",
    "print(temp[0])  # \"y\"\n",
    "print(temp[1])  # \"t\"\n"
   ]
  },
  {
   "cell_type": "markdown",
   "id": "functioning-birmingham",
   "metadata": {},
   "source": [
    "*You can test your function by checking the following input-output pairs.*\n",
    "<br/>\n",
    "Input: \"raymond\"\n",
    "<br/>\n",
    "Ouput: \"rctionq\"\n",
    "\n",
    "<br/>\n",
    "Input: \"peter is a good guy\"\n",
    "<br/>\n",
    "Output: \"peyer ms c gooq gut\"\n",
    "\n",
    "**if you really can't use a flexible way to implement the code, you can forget about the `keys` variable and use `if-else` statements to complete it**"
   ]
  },
  {
   "cell_type": "code",
   "execution_count": 11,
   "id": "offshore-trustee",
   "metadata": {},
   "outputs": [],
   "source": [
    "# Question 3\n",
    "\n",
    "\n",
    "keys = [[\"a\", \"c\"], [\"c\", \"a\"], [\"d\", \"q\"], [\"i\", \"m\"], [\"m\", \"i\"], [\"q\", \"d\"], [\"t\", \"y\"], [\"y\", \"t\"]]\n",
    "\n",
    "input = \"raymond\"\n",
    "\n",
    "def encrypt(input, keys):\n",
    "    output = \"\"\n",
    "\n",
    "    # Write your code below:\n",
    "\n"
   ]
  },
  {
   "cell_type": "code",
   "execution_count": 12,
   "id": "empirical-script",
   "metadata": {},
   "outputs": [],
   "source": [
    "# Test your function in question 2\n",
    "# encrypt(\"raymond\", keys)\n"
   ]
  },
  {
   "cell_type": "markdown",
   "id": "silver-accessory",
   "metadata": {},
   "source": [
    "## Question 4\n",
    "\n",
    "You realized that your encryption method is too naive, now you want to make it more sophisticated. You came up with an idea that shifting each plaintext characters *k* steps forward to become another character. For example, if *k = 4*, a 4-step\n",
    "forward of the character 'a' is 'e', and a 4-step forward of the character 'b' is 'f'.\n",
    "\n",
    "![cipher2](images/lab_exercise02_cipher2.png)\n"
   ]
  },
  {
   "cell_type": "code",
   "execution_count": 13,
   "id": "moved-offering",
   "metadata": {},
   "outputs": [
    {
     "data": {
      "text/plain": [
       "10"
      ]
     },
     "execution_count": 13,
     "metadata": {},
     "output_type": "execute_result"
    }
   ],
   "source": [
    "# Hints\n",
    "# you can convert \"a\" to the number 1 by viewing it as a 36-decimal system \n",
    "# (we borrow the idea of hexdecimal system). i.e. a=10, b=11, ... z=35\n",
    "\n",
    "int(\"a\", 36)"
   ]
  },
  {
   "cell_type": "code",
   "execution_count": 14,
   "id": "german-shoot",
   "metadata": {
    "scrolled": true
   },
   "outputs": [
    {
     "data": {
      "text/plain": [
       "35"
      ]
     },
     "execution_count": 14,
     "metadata": {},
     "output_type": "execute_result"
    }
   ],
   "source": [
    "# test for \"z\"\n",
    "int(\"z\", 36)"
   ]
  },
  {
   "cell_type": "markdown",
   "id": "human-alpha",
   "metadata": {},
   "source": [
    "Computers can only understand numbers, so an ASCII code is the numerical representation of a character such as 'a' or '@' or an action of some sort.\n",
    "\n",
    "Given the following ASCII table:\n",
    "\n",
    "|Dec | Chr|Dec | Chr|Dec | Chr|\n",
    "| - | - | - | - | - | - |\n",
    "| 97 | a | 106 | j | 115 | s |\n",
    "| 98 | b | 107 | k |  116 | t |\n",
    "| 99 | c | 108 | l | 117 | u |\n",
    "| 100 | d | 109 | m | 118 | v |\n",
    "| 101 | e | 110 | n | 119 | w |\n",
    "| 102 | f | 111 | o | 120 | x |\n",
    "| 103 | g | 112 | p | 121 | y |\n",
    "| 104 | h | 113 | q | 122 | z |\n",
    "| 105 | i | 114 | r | - | - |\n",
    "\n",
    "You can find out more about ASCII code here:\n",
    "[ASCII](http://www.asciitable.com/)"
   ]
  },
  {
   "cell_type": "code",
   "execution_count": 15,
   "id": "attended-candle",
   "metadata": {},
   "outputs": [
    {
     "data": {
      "text/plain": [
       "'a'"
      ]
     },
     "execution_count": 15,
     "metadata": {},
     "output_type": "execute_result"
    }
   ],
   "source": [
    "chr(97)"
   ]
  },
  {
   "cell_type": "code",
   "execution_count": 16,
   "id": "respected-cornwall",
   "metadata": {},
   "outputs": [
    {
     "data": {
      "text/plain": [
       "'a'"
      ]
     },
     "execution_count": 16,
     "metadata": {},
     "output_type": "execute_result"
    }
   ],
   "source": [
    "# you can do a conversion between number to character by the following sample code\n",
    "# In your 36-decimal system, 10 represent an \"a\". You know that 97 represents \"a\" in ASCII system, \n",
    "# so you can simply add 87 (97-10) to get your character in your 36-decimal system.\n",
    "\n",
    "value = int(\"a\", 36)  ## it gives your value of 10\n",
    "value = value - 10    ## it is better to shift your character in a range of 1-25, instead of 10-35\n",
    "chr(value+97)   ## it should give you the character of \"a\"; we only use the ASCII table in the range of 97 to 122."
   ]
  },
  {
   "cell_type": "markdown",
   "id": "bottom-soviet",
   "metadata": {},
   "source": [
    "**Implement the encryption algorithm and named your function as `encrpt2`. Take one argument as the input and one argument contains the value *k*. You only require to handle lowercase character. You NO need to handle special character such as space bar.**"
   ]
  },
  {
   "cell_type": "code",
   "execution_count": 17,
   "id": "distinct-bunch",
   "metadata": {},
   "outputs": [],
   "source": [
    "# Question 4 \n",
    "\n",
    "# k = 4 is for testing, your program should work for any value of n\n",
    "\n",
    "k = 4\n",
    "\n",
    "def encrypt2(input, k):\n",
    "    output = \"\"\n",
    "    \n",
    "# write your program below:\n",
    "\n",
    "\n"
   ]
  },
  {
   "cell_type": "code",
   "execution_count": 18,
   "id": "fluid-cream",
   "metadata": {},
   "outputs": [],
   "source": [
    "# test your function\n",
    "# encrypt2(\"abcdefghijklmnopqrstuvwxyz\", 1)"
   ]
  },
  {
   "cell_type": "code",
   "execution_count": 19,
   "id": "negative-comfort",
   "metadata": {},
   "outputs": [],
   "source": [
    "# test your function\n",
    "# encrypt2(\"abcdefghijklmnopqrstuvwxyz\", 4)"
   ]
  }
 ],
 "metadata": {
  "kernelspec": {
   "display_name": "fintechlab",
   "language": "python",
   "name": "fintechlab"
  },
  "language_info": {
   "codemirror_mode": {
    "name": "ipython",
    "version": 3
   },
   "file_extension": ".py",
   "mimetype": "text/x-python",
   "name": "python",
   "nbconvert_exporter": "python",
   "pygments_lexer": "ipython3",
   "version": "3.8.5"
  }
 },
 "nbformat": 4,
 "nbformat_minor": 5
}
