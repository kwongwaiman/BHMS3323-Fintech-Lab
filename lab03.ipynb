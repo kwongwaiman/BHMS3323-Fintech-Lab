{
 "cells": [
  {
   "cell_type": "markdown",
   "id": "vocal-internet",
   "metadata": {},
   "source": [
    "## BHMS3323 Practices of FinTech"
   ]
  },
  {
   "cell_type": "markdown",
   "id": "comparative-there",
   "metadata": {},
   "source": [
    "## Lab3 - Functions"
   ]
  },
  {
   "cell_type": "markdown",
   "id": "prime-premium",
   "metadata": {},
   "source": [
    "A function in a programming language is a block/sequence of program codes to perform a defined task.\n",
    "\n",
    "### Example 1:\n",
    "\n",
    "Define a greeting function `say_hello()`:\n",
    "\n",
    "In Python, a function is defined by using the `def` keyword. The parenthesis `()` tells Python that you're declaring a function, and you need to type `:` at the end of your function."
   ]
  },
  {
   "cell_type": "code",
   "execution_count": 1,
   "id": "departmental-charge",
   "metadata": {},
   "outputs": [],
   "source": [
    "def say_hello():\n",
    "    print(\"Hello, Raymond!\")"
   ]
  },
  {
   "cell_type": "markdown",
   "id": "external-peripheral",
   "metadata": {},
   "source": [
    "You can call the function by its function name followed by parenthesis"
   ]
  },
  {
   "cell_type": "code",
   "execution_count": 2,
   "id": "previous-outreach",
   "metadata": {},
   "outputs": [
    {
     "name": "stdout",
     "output_type": "stream",
     "text": [
      "Hello, Raymond!\n"
     ]
    }
   ],
   "source": [
    "say_hello()"
   ]
  },
  {
   "cell_type": "markdown",
   "id": "running-meditation",
   "metadata": {},
   "source": [
    "You can also call it multiple times."
   ]
  },
  {
   "cell_type": "code",
   "execution_count": 3,
   "id": "after-guinea",
   "metadata": {},
   "outputs": [
    {
     "name": "stdout",
     "output_type": "stream",
     "text": [
      "Hello, Raymond!\n",
      "Hello, Raymond!\n",
      "Hello, Raymond!\n"
     ]
    }
   ],
   "source": [
    "say_hello()\n",
    "say_hello()\n",
    "say_hello()"
   ]
  },
  {
   "cell_type": "code",
   "execution_count": 4,
   "id": "responsible-webmaster",
   "metadata": {},
   "outputs": [
    {
     "name": "stdout",
     "output_type": "stream",
     "text": [
      "Hello, Raymond!\n",
      "Hello, Raymond!\n",
      "Hello, Raymond!\n",
      "Hello, Raymond!\n",
      "Hello, Raymond!\n",
      "Hello, Raymond!\n",
      "Hello, Raymond!\n",
      "Hello, Raymond!\n",
      "Hello, Raymond!\n",
      "Hello, Raymond!\n"
     ]
    }
   ],
   "source": [
    "# let's say hi to me in 10 times\n",
    "\n",
    "for i in range(10):\n",
    "    say_hello()"
   ]
  },
  {
   "cell_type": "markdown",
   "id": "mysterious-cabin",
   "metadata": {},
   "source": [
    "You can also create a personalized greeting fucntion by specifying a parameters(an argument) in the function.\n",
    "You can specify the argument after the function name and inside the parentheses."
   ]
  },
  {
   "cell_type": "code",
   "execution_count": 10,
   "id": "impossible-terry",
   "metadata": {},
   "outputs": [],
   "source": [
    "# Hello with argument\n",
    "def say_hello(name):\n",
    "    print(\"Hello \" + name)"
   ]
  },
  {
   "cell_type": "code",
   "execution_count": 11,
   "id": "objective-shoulder",
   "metadata": {},
   "outputs": [
    {
     "name": "stdout",
     "output_type": "stream",
     "text": [
      "Hello Peter\n"
     ]
    }
   ],
   "source": [
    "say_hello(\"Peter\")"
   ]
  },
  {
   "cell_type": "code",
   "execution_count": 12,
   "id": "abroad-internet",
   "metadata": {},
   "outputs": [
    {
     "name": "stdout",
     "output_type": "stream",
     "text": [
      "Hello Joe\n",
      "Hello Peter\n",
      "Hello Bill\n",
      "Hello Kris\n",
      "Hello Isaac\n"
     ]
    }
   ],
   "source": [
    "# create a list of names\n",
    "# greet them one by one\n",
    "\n",
    "names = [\"Joe\", \"Peter\", \"Bill\", \"Kris\", \"Isaac\"]\n",
    "for name in names:\n",
    "    say_hello(name)"
   ]
  },
  {
   "cell_type": "markdown",
   "id": "indonesian-burns",
   "metadata": {},
   "source": [
    "We can also specify defalut values for arguments if we call the function with none."
   ]
  },
  {
   "cell_type": "code",
   "execution_count": 15,
   "id": "expensive-criticism",
   "metadata": {},
   "outputs": [],
   "source": [
    "# Hello with a default argument\n",
    "def say_hello(name = \"mate\"):\n",
    "    print(\"Hello \" + name + \"!\")"
   ]
  },
  {
   "cell_type": "code",
   "execution_count": 16,
   "id": "lyric-uzbekistan",
   "metadata": {},
   "outputs": [
    {
     "name": "stdout",
     "output_type": "stream",
     "text": [
      "Hello mate!\n",
      "Hello Kate!\n"
     ]
    }
   ],
   "source": [
    "say_hello()\n",
    "say_hello(\"Kate\")"
   ]
  },
  {
   "cell_type": "markdown",
   "id": "accredited-wilson",
   "metadata": {},
   "source": [
    "### Example 2:\n",
    "\n",
    "if you have a variable `x` contains a list of integer `[1,2,3,4,5,6,7,8,9]`, you may use a for loop or while loop to calculate its average. "
   ]
  },
  {
   "cell_type": "code",
   "execution_count": 5,
   "id": "controlled-relationship",
   "metadata": {},
   "outputs": [],
   "source": [
    "# define the variable x\n",
    "x = [0,5,10,15,20,25,30,35,40]"
   ]
  },
  {
   "cell_type": "code",
   "execution_count": 6,
   "id": "discrete-receiver",
   "metadata": {},
   "outputs": [
    {
     "name": "stdout",
     "output_type": "stream",
     "text": [
      "20.0\n"
     ]
    }
   ],
   "source": [
    "# using for loop\n",
    "sum = 0\n",
    "\n",
    "for i in x:\n",
    "    sum += i\n",
    "\n",
    "avg = sum / len(x)\n",
    "print(avg)"
   ]
  },
  {
   "cell_type": "code",
   "execution_count": 7,
   "id": "detailed-madrid",
   "metadata": {},
   "outputs": [
    {
     "name": "stdout",
     "output_type": "stream",
     "text": [
      "20.0\n"
     ]
    }
   ],
   "source": [
    "# using while loop\n",
    "sum = 0\n",
    "i = 0\n",
    "n = len(x)\n",
    "\n",
    "while i < n:\n",
    "    sum += x[i]\n",
    "    i +=1\n",
    "\n",
    "avg = sum / n\n",
    "print(avg)"
   ]
  },
  {
   "cell_type": "markdown",
   "id": "decent-advertiser",
   "metadata": {},
   "source": [
    "Since the procedure of calucating the average value in a list is routine, you can define a function for it to aviod repetition of your code.\n",
    "\n",
    "Let's define the function `cal_avg` below:"
   ]
  },
  {
   "cell_type": "code",
   "execution_count": 8,
   "id": "textile-tobacco",
   "metadata": {},
   "outputs": [],
   "source": [
    "def cal_avg(input_list):\n",
    "    \"\"\"Calcuate the average value of a list\n",
    "    \n",
    "    Keyword arguments:\n",
    "    input_list -- the list with numeric values\n",
    "    \n",
    "    Return:\n",
    "    a floating point\n",
    "    \n",
    "    \"\"\"\n",
    "    sum = 0\n",
    "\n",
    "    for i in input_list:\n",
    "        sum += i\n",
    "\n",
    "    avg = sum / len(x)\n",
    "    \n",
    "    return avg\n",
    "\n",
    "    "
   ]
  },
  {
   "cell_type": "markdown",
   "id": "faced-divorce",
   "metadata": {},
   "source": [
    "Note that the function will return a value by using the `return` statement.\n"
   ]
  },
  {
   "cell_type": "markdown",
   "id": "bottom-nightmare",
   "metadata": {},
   "source": [
    "Now, let's try your code with the following lists:\n",
    "\n",
    "`x = [1,5,9]` , `y = [6, 8, 10, 12, 14]`\n",
    "\n",
    "\n"
   ]
  },
  {
   "cell_type": "code",
   "execution_count": 17,
   "id": "bridal-perspective",
   "metadata": {},
   "outputs": [
    {
     "name": "stdout",
     "output_type": "stream",
     "text": [
      "The average of list x is: 5.0\n",
      "The average of list y is: 16.666666666666668\n"
     ]
    }
   ],
   "source": [
    "x = [1,5,9]\n",
    "y = [6,8,10,12,14]\n",
    "\n",
    "avg_x = cal_avg(x)\n",
    "avg_y = cal_avg(y)\n",
    "\n",
    "print(\"The average of list x is: \" + str(avg_x))\n",
    "print(\"The average of list y is: \" + str(avg_y))\n"
   ]
  },
  {
   "cell_type": "markdown",
   "id": "detected-electronics",
   "metadata": {},
   "source": [
    "# Python Modules and Package\n",
    "\n",
    "A module in Python is a code library, you can treat it as a file that contains a set of functions.\n",
    "In Python, a package is a collection of Python modules, while a module is a single Python file that contains a set of functions.\n",
    "\n",
    "In lecture, we talk about SHA256 hash algorithm that is the core of Blockchain. In Python, SHA256 function can be called after you include the module in your program.\n",
    "\n",
    "Again, please visit \n"
   ]
  },
  {
   "cell_type": "code",
   "execution_count": 1,
   "id": "accomplished-edition",
   "metadata": {},
   "outputs": [
    {
     "name": "stdout",
     "output_type": "stream",
     "text": [
      "185f8db32271fe25f561a6fc938b2e264306ec304eda518007d1764826381969\n"
     ]
    }
   ],
   "source": [
    "import hashlib\n",
    "\n",
    "input_message = \"Hello\"\n",
    "output_hash = hashlib.sha256(input_message.encode()).hexdigest()\n",
    "\n",
    "print(output_hash)\n"
   ]
  },
  {
   "cell_type": "markdown",
   "id": "another-forth",
   "metadata": {},
   "source": [
    "## Exercise 1\n",
    "\n",
    "Write a Python function to return the maximum number in a list `data`. \n"
   ]
  },
  {
   "cell_type": "code",
   "execution_count": 19,
   "id": "quantitative-accommodation",
   "metadata": {},
   "outputs": [
    {
     "data": {
      "text/plain": [
       "90"
      ]
     },
     "execution_count": 19,
     "metadata": {},
     "output_type": "execute_result"
    }
   ],
   "source": [
    "data = [30, 23, 80, 12, 90, 76, 22, 34, 3]\n",
    "\n",
    "# write your code below\n",
    "\n",
    "\n",
    "\n",
    "\n",
    "    "
   ]
  },
  {
   "cell_type": "markdown",
   "id": "electoral-complexity",
   "metadata": {},
   "source": [
    "## Exercise 2\n",
    "\n",
    "Write a Python function to multiply all the numbers in a list.\n",
    "\n",
    "<br/>\n",
    "\n",
    "Sample List : `[2, 4, 6, -1]`\n",
    "\n",
    "<br/>\n",
    "\n",
    "Expected Output : `-48`"
   ]
  },
  {
   "cell_type": "code",
   "execution_count": 21,
   "id": "commercial-qatar",
   "metadata": {},
   "outputs": [
    {
     "data": {
      "text/plain": [
       "-48"
      ]
     },
     "execution_count": 21,
     "metadata": {},
     "output_type": "execute_result"
    }
   ],
   "source": [
    "data = [2,4,6,-1]\n",
    "\n",
    "# write your code below\n",
    "\n"
   ]
  }
 ],
 "metadata": {
  "kernelspec": {
   "display_name": "fintechlab",
   "language": "python",
   "name": "fintechlab"
  },
  "language_info": {
   "codemirror_mode": {
    "name": "ipython",
    "version": 3
   },
   "file_extension": ".py",
   "mimetype": "text/x-python",
   "name": "python",
   "nbconvert_exporter": "python",
   "pygments_lexer": "ipython3",
   "version": "3.8.5"
  }
 },
 "nbformat": 4,
 "nbformat_minor": 5
}
